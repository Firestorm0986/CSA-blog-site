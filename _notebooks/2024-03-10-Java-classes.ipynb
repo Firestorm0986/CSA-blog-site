{
 "cells": [
  {
   "cell_type": "markdown",
   "metadata": {},
   "source": [
    "---\n",
    "comments: true\n",
    "layout: post\n",
    "title: Classes Lesson\n",
    "description: This is a draft lesson for the Classes topic\n",
    "type: hacks\n",
    "toc: true\n",
    "courses: { csa: {week: 22} }\n",
    "---"
   ]
  },
  {
   "cell_type": "markdown",
   "metadata": {},
   "source": []
  }
 ],
 "metadata": {
  "language_info": {
   "name": "python"
  }
 },
 "nbformat": 4,
 "nbformat_minor": 2
}
