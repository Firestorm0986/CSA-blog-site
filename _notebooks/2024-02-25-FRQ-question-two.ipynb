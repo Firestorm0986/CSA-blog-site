{
 "cells": [
  {
   "cell_type": "markdown",
   "metadata": {},
   "source": [
    "---\n",
    "comments: true\n",
    "layout: post\n",
    "title: 2015 FRQ Question 2\n",
    "description: This is the answer to the 2015 FRQ Question 2\n",
    "type: hacks\n",
    "toc: true\n",
    "courses: { csa: {week: 20} }\n",
    "---"
   ]
  },
  {
   "cell_type": "markdown",
   "metadata": {},
   "source": [
    "## Question 2 - Calsses and Loops\n",
    "![image](https://github.com/Firestorm0986/CSA-blog-site/assets/108041389/286730a6-67bb-48dc-b576-d3d34b9e9762)\n",
    "\n",
    "## Answer\n"
   ]
  },
  {
   "cell_type": "code",
   "execution_count": 2,
   "metadata": {},
   "outputs": [],
   "source": [
    "public class HiddenWord {\n",
    "    private String hiddenWord;\n",
    "\n",
    "    public HiddenWord(String word) {\n",
    "        this.hiddenWord = word;\n",
    "    }\n",
    "\n",
    "    public String getHint(String guess) {\n",
    "        StringBuilder hint = new StringBuilder();\n",
    "        \n",
    "        for (int i = 0; i < guess.length(); i++) {\n",
    "            char guessChar = guess.charAt(i);\n",
    "            if (guessChar == hiddenWord.charAt(i)) {\n",
    "                hint.append(guessChar); // Correct character in correct position\n",
    "            } else if (hiddenWord.contains(String.valueOf(guessChar))) {\n",
    "                hint.append(\"+\"); // Correct character in wrong position\n",
    "            } else {\n",
    "                hint.append(\"*\"); // Incorrect character\n",
    "            }\n",
    "        }\n",
    "        \n",
    "        return hint.toString();\n",
    "    }\n",
    "}\n"
   ]
  },
  {
   "cell_type": "markdown",
   "metadata": {},
   "source": [
    "## Explain\n",
    "Constructor `public HiddenWord(String word)`: This method initializes the HiddenWord object with a word that is to be guessed. The hiddenWord instance variable stores this word.\n",
    "\n",
    "Method` public String getHint(String guess)`: This method takes a user's guess as input and returns a hint based on how closely the guess matches the hidden word. The hint is constructed as follows:\n",
    "\n",
    "Correct character in the correct position: If a character in the guess matches a character in the same position in the hidden word, that character is added to the hint string as is.\n",
    "Correct character in the wrong position: If a character in the guess exists anywhere in the hidden word but is not in the correct position, a plus sign (\"+\") is added to the hint string to indicate the presence of the character, but in the wrong spot.\n",
    "Incorrect character: If a character in the guess does not exist anywhere in the hidden word, an asterisk (\"*\") is added to the hint string to indicate an incorrect guess for that position."
   ]
  },
  {
   "cell_type": "markdown",
   "metadata": {},
   "source": [
    "### Testing \n",
    "The below class is a testing class with a main method used for testing out my code and presenting working output to intended input. "
   ]
  },
  {
   "cell_type": "code",
   "execution_count": 3,
   "metadata": {},
   "outputs": [
    {
     "name": "stdout",
     "output_type": "stream",
     "text": [
      "Guess: hello | Hint: h****\n",
      "Guess: earls | Hint: *ar*s\n",
      "Guess: harms | Hint: har*s\n",
      "Guess: sharp | Hint: +++++\n",
      "Guess: parks | Hint: +ar*s\n"
     ]
    }
   ],
   "source": [
    "// Testing\n",
    "public class Test {\n",
    "    public static void main(String[] args) {\n",
    "        // Initialize a HiddenWord instance with a word\n",
    "        HiddenWord game = new HiddenWord(\"harps\");\n",
    "        \n",
    "        // Various test cases to check the functionality of getHint method\n",
    "        String[] testGuesses = {\"hello\", \"earls\", \"harms\", \"sharp\", \"parks\"};\n",
    "        \n",
    "        for (String guess : testGuesses) {\n",
    "            String hint = game.getHint(guess);\n",
    "            System.out.println(\"Guess: \" + guess + \" | Hint: \" + hint);\n",
    "        }\n",
    "    }\n",
    "}\n",
    "\n",
    "Test.main(null);"
   ]
  },
  {
   "cell_type": "markdown",
   "metadata": {},
   "source": [
    "## Project Connections\n",
    "\n",
    "At various places we use `for loops` nested `if statements`. For example, the `modleinit.java` file uses for loops with nested if statements to create databse entries and also assign roles to the `person` created.\n",
    "![image](https://github.com/Firestorm0986/CSA-blog-site/assets/108041389/9d018da6-7ef0-4926-b59d-942f2e607ac7)\n",
    "\n",
    "Moreover, One difference consistent in all the questions and the project, especially this question, are the `constructors`. Because we use `AllArgsConstructor` and `NoArgsConstructor` from the `Lombook` library we do not need to make constructors, decreasing boilerplate code and making our code more clean. \n",
    "\n",
    "![image](https://github.com/Firestorm0986/CSA-blog-site/assets/108041389/e64394fd-7644-4fda-9438-b0df0402137f)"
   ]
  }
 ],
 "metadata": {
  "kernelspec": {
   "display_name": "Java",
   "language": "java",
   "name": "java"
  },
  "language_info": {
   "codemirror_mode": "java",
   "file_extension": ".jshell",
   "mimetype": "text/x-java-source",
   "name": "java",
   "pygments_lexer": "java",
   "version": "20.0.2+9"
  }
 },
 "nbformat": 4,
 "nbformat_minor": 2
}
