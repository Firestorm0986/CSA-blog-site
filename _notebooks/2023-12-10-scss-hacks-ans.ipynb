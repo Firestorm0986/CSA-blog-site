{
 "cells": [
  {
   "cell_type": "markdown",
   "metadata": {},
   "source": [
    "---\n",
    "layout: post\n",
    "title: Unit 8 Lesson - 2D Arrays\n",
    "description: Group Lesson on Unit 8 which covers 2D arrays\n",
    "toc: true\n",
    "courses: { csa: {week: 10} }\n",
    "type: hacks\n",
    "---"
   ]
  },
  {
   "cell_type": "markdown",
   "metadata": {},
   "source": [
    "## Demo link\n",
    "\n",
    "Let's reflect on each feature used in your UI demo:\n",
    "\n",
    "- Variables (e.g., $defaultColor, $defaultString):\n",
    "\n",
    "    - Utilization: Variables are used to store and manage reusable values, such as colors and strings, to maintain consistency and ease of updates.\n",
    "    - Effectiveness: This is effective because it centralizes the definition of values that are used multiple times, making it easy to update and maintain a consistent design throughout the project. Without variables, you would need to manually replace values across the codebase.\n",
    "\n",
    "- Functions (e.g., create-plan()):\n",
    "    - Utilization: Functions are used to generate a plan with constant details, such as color, price, and features. The function encapsulates the logic for creating a plan.\n",
    "    - Effectiveness: This approach is effective as it modularizes the plan creation process. If you need to create multiple plans with similar structures, you can easily reuse this function. Without functions, you would need to duplicate the plan creation code for each instance, leading to redundancy and decreased maintainability.\n",
    "\n",
    "- Mixins (e.g., box-shadow mixin, card mixin):\n",
    "\n",
    "    - Utilization: Mixins are used to group and reuse sets of CSS declarations. The box-shadow mixin is applied to provide a consistent box shadow, and the card mixin defines styles for the card element.\n",
    "    - Effectiveness: Mixins enhance maintainability and readability by encapsulating styles. They enable you to apply consistent styles across elements without duplicating code. Without mixins, you would need to manually repeat the same CSS declarations, increasing the likelihood of errors and making updates more challenging.\n",
    "\n",
    "- Map functions (e.g., map-get()):\n",
    "\n",
    "    - Utilization: Map functions are used to retrieve values from a map. In this case, map-get() retrieves the color value from the plan map.\n",
    "    - Effectiveness: Using map functions enhances code organization and readability. It allows you to structure and access related values in a more organized way. Without map functions, you might need to directly reference values within the map, which could be less clear and more error-prone."
   ]
  }
 ],
 "metadata": {
  "language_info": {
   "name": "python"
  }
 },
 "nbformat": 4,
 "nbformat_minor": 2
}
