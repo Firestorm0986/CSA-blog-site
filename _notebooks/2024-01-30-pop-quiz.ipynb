{
 "cells": [
  {
   "cell_type": "markdown",
   "metadata": {},
   "source": [
    "---\n",
    "comments: true\n",
    "layout: default\n",
    "title: Deployment pop quiz\n",
    "description: Complete marks for the quiz\n",
    "type: hacks\n",
    "toc: true\n",
    "courses: { csa: {week: 20} }\n",
    "---"
   ]
  },
  {
   "cell_type": "markdown",
   "metadata": {},
   "source": [
    "## Questions and Scores\n",
    "1. Reverse Proxy, ther is something called a server name and proxy pass. Describe server name and proxy pass definations in server file. 0.9\n",
    "- ![image](https://github.com/Firestorm0986/CSA-blog-site/assets/108041389/e11d2337-7656-40ef-96a5-9b000d805a1e)\n",
    "\n",
    "2. Show JWT token login process. Split browser screen, to show that it needs authentication also decode the cookie. 0.95\n",
    "- ![image](https://github.com/Firestorm0986/CSA-blog-site/assets/108041389/c2d21bf7-08f6-48dd-80b7-f316c83cc42d)\n",
    "- ![image](https://github.com/Firestorm0986/CSA-blog-site/assets/108041389/62e09932-f895-4c73-918c-a23cb7b7d613)\n",
    "\n",
    "3. Explain sequirty config rules required for access. requestmater for permit and authentication. 0.95\n",
    "- ![image](https://github.com/Firestorm0986/CSA-blog-site/assets/108041389/0481ed73-0c62-447f-b811-f903a9ac9ccf)\n",
    "\n",
    "4. Explain a POJO and changes to a pojo --> show pojo in vscode and show changes and show results in postman. 0.9\n",
    "- ![image](https://github.com/Firestorm0986/CSA-blog-site/assets/108041389/9e70ef40-0588-4784-b8dd-03e2e37c9674)\n",
    "\n",
    "5. Describe the docker process for update of application. 0.9\n",
    "- ![image](https://github.com/Firestorm0986/CSA-blog-site/assets/108041389/b27e94b4-51e9-4527-8227-206a79e624eb)\n"
   ]
  },
  {
   "cell_type": "markdown",
   "metadata": {},
   "source": [
    "## Best Score/ Final Score\n",
    "\n",
    "0.95 + 0.95 + 0.9 + 0.9 = 3.7/4"
   ]
  }
 ],
 "metadata": {
  "language_info": {
   "name": "python"
  }
 },
 "nbformat": 4,
 "nbformat_minor": 2
}
