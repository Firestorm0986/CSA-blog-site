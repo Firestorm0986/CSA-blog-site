{
 "cells": [
  {
   "cell_type": "markdown",
   "metadata": {},
   "source": [
    "---\n",
    "comments: true\n",
    "layout: post\n",
    "title: Lesson Plan Unit 3\n",
    "description: Unit 3 lesson Plan\n",
    "type: tangibles\n",
    "courses: { csa: {week: 8} }\n",
    "---"
   ]
  },
  {
   "cell_type": "markdown",
   "metadata": {},
   "source": [
    "# Lessons\n",
    "\n",
    "## Lesson 3.1 Boolean Expression\n",
    "\n",
    "- Operators\n",
    "    - Primitives\n",
    "    - Equal to: ==\n",
    "    - Not Equal to: !=\n",
    "- Arithmetic\n",
    "    - Greater than: >\n",
    "    - Less than: >\n",
    "    - Greater than or equal to: >=\n",
    "    - Less than or equal to: <=\n",
    "\n",
    "All operators give a `true` or `False` value\n",
    "\n",
    "<mark> Operators SHOULD NOT be used on String <mark>. String comparisons should be done using .equal or .compareTo\n",
    "\n",
    "- This is because\n",
    "    - In Java, strings should not be compared using the == operator because it checks for reference equality, not content equality.\n",
    "    - When you use == with objects (including strings), it checks if the references to the objects are the same. In other words, it checks if they point to the same location in memory.\n",
    "    - String literals in Java are stored in a special memory area called the \"String Pool\". When you create a string literal, Java checks if a string with the same content already exists in the pool. If it does, it returns a reference to that existing string; if not, it creates a new string.\n"
   ]
  },
  {
   "cell_type": "code",
   "execution_count": 3,
   "metadata": {},
   "outputs": [
    {
     "name": "stdout",
     "output_type": "stream",
     "text": [
      "false\n"
     ]
    }
   ],
   "source": [
    "public class Test {\n",
    "    public static void main(){\n",
    "        String a = \"Hello\";\n",
    "        String b = new String(\"Hello\");\n",
    "\n",
    "        System.out.println( a == b);\n",
    "    }\n",
    "}\n",
    "Test.main()"
   ]
  },
  {
   "cell_type": "markdown",
   "metadata": {},
   "source": [
    "## Lesson 3.2 3.3 and 3.4\n",
    "\n",
    "We all know how if and else statements work\n",
    "\n",
    "This is the syntax for if-else statements in Java\n",
    "\n",
    "```\n",
    "\n",
    "if (condition) {\n",
    "    // Code to execute if the condition is true\n",
    "} else {\n",
    "    // Code to execute if the condition is false\n",
    "}\n",
    "\n",
    "```\n",
    "\n",
    "### Multi-way Selection  (else-if)\n",
    "\n",
    "Syntax\n",
    "\n",
    "```\n",
    "\n",
    "if (condition1) {\n",
    "    // Code to be executed if condition1 is true\n",
    "} else if (condition2) {\n",
    "    // Code to be executed if condition2 is true\n",
    "} else if (condition3) {\n",
    "    // Code to be executed if condition3 is true\n",
    "} else {\n",
    "    // Code to be executed if none of the conditions are true\n",
    "}\n",
    "\n",
    "```"
   ]
  },
  {
   "cell_type": "markdown",
   "metadata": {},
   "source": [
    "<!DOCTYPE html>\n",
    "<html lang=\"en\">\n",
    "<head>\n",
    "<meta charset=\"UTF-8\">\n",
    "<meta name=\"viewport\" content=\"width=device-width, initial-scale=1.0\">\n",
    "<title>Interactive Flip Cards</title>\n",
    "<style>\n",
    "  .flip-card {\n",
    "    background-color: #f1f1f1;\n",
    "    width: 700px;\n",
    "    height: 250px;\n",
    "    perspective: 1000px;\n",
    "    border: 1px solid #ccc;\n",
    "    margin: 10px;\n",
    "    cursor: pointer;\n",
    "  }\n",
    "  .flip-card-inner {\n",
    "    position: relative;\n",
    "    width: 100%;\n",
    "    height: 100%;\n",
    "    transition: transform 0.6s;\n",
    "    transform-style: preserve-3d;\n",
    "  }\n",
    "  .flip-card-front, .flip-card-back {\n",
    "    position: absolute;\n",
    "    width: 100%;\n",
    "    height: 100%;\n",
    "    backface-visibility: hidden;\n",
    "  }\n",
    "  .flip-card-front {\n",
    "    background-color: #bbb;\n",
    "    color: #000;\n",
    "    z-index: 2;\n",
    "    text-align: left; /* Align text to the left */\n",
    "    padding: 5px; /* Add some padding for better readability */\n",
    "  }\n",
    "  .flip-card-back {\n",
    "    background-color: #555;\n",
    "    color: #fff;\n",
    "    transform: rotateY(180deg);\n",
    "    text-align: left; /* Align text to the left */\n",
    "    padding: 5px; /* Add some padding for better readability */\n",
    "  }\n",
    "  .flip-card:hover .flip-card-inner {\n",
    "    transform: rotateY(180deg);\n",
    "  }\n",
    "</style>\n",
    "</head>\n",
    "<body>\n",
    "\n",
    "<div class=\"flip-card\">\n",
    "  <div class=\"flip-card-inner\">\n",
    "    <div class=\"flip-card-front\">\n",
    "      <h3>if-else Syntax</h3>\n",
    "    </div>\n",
    "    <div class=\"flip-card-back\">\n",
    "      <pre>\n",
    "        if (condition) {\n",
    "            // Code to execute if the condition is true\n",
    "        } else {\n",
    "            // Code to execute if the condition is false\n",
    "        }\n",
    "      </pre>\n",
    "    </div>\n",
    "  </div>\n",
    "</div>\n",
    "\n",
    "<div class=\"flip-card\">\n",
    "  <div class=\"flip-card-inner\">\n",
    "    <div class=\"flip-card-front\">\n",
    "      <h3>else-if Syntax</h3>\n",
    "    </div>\n",
    "    <div class=\"flip-card-back\">\n",
    "      <pre>\n",
    "        if (condition1) {\n",
    "            // Code to be executed if condition1 is true\n",
    "        } else if (condition2) {\n",
    "            // Code to be executed if condition2 is true\n",
    "        } else if (condition3) {\n",
    "            // Code to be executed if condition3 is true\n",
    "        } else {\n",
    "            // Code to be executed if none of the conditions are true\n",
    "        }\n",
    "      </pre>\n",
    "    </div>\n",
    "  </div>\n",
    "</div>\n",
    "\n",
    "</body>\n",
    "</html>\n"
   ]
  },
  {
   "cell_type": "markdown",
   "metadata": {},
   "source": [
    "## Lesson 3.5\n",
    "\n",
    "### Learning Objectives:\n",
    "\n",
    "- Understand nested if-else statements and their role in representing branching logical processes.\n",
    "- Evaluate compound boolean expressions using logical operators like && and ||.\n",
    "- Introduce short-circuited evaluation in compound boolean expressions.\n",
    "\n",
    "#### Nested if-else statements\n",
    "Nested if-else statements allow for multiple levels of decision-making within a program.\n"
   ]
  },
  {
   "cell_type": "code",
   "execution_count": 7,
   "metadata": {},
   "outputs": [
    {
     "name": "stdout",
     "output_type": "stream",
     "text": [
      "x is positive, but y is not.\n"
     ]
    }
   ],
   "source": [
    "public class Nested {\n",
    "    public static void main() {\n",
    "        int x = 5;\n",
    "        int y = -10;\n",
    "\n",
    "        if (x > 0) {\n",
    "            if (y > 0) {\n",
    "                System.out.println(\"Both x and y are positive.\");\n",
    "            } else {\n",
    "                System.out.println(\"x is positive, but y is not.\");\n",
    "            }\n",
    "        } else {\n",
    "            System.out.println(\"x is not positive.\");\n",
    "        }\n",
    "            }\n",
    "}\n",
    "Nested.main()"
   ]
  },
  {
   "cell_type": "markdown",
   "metadata": {},
   "source": [
    "#### Compound Boolean Expressions:\n",
    "\n",
    "Compound boolean expressions involve using logical operators like && (and) and || (or) to combine multiple conditions."
   ]
  },
  {
   "cell_type": "code",
   "execution_count": 9,
   "metadata": {},
   "outputs": [
    {
     "name": "stdout",
     "output_type": "stream",
     "text": [
      "You are an adult student.\n"
     ]
    }
   ],
   "source": [
    "public class Compound {\n",
    "    public static void main(){\n",
    "        int age = 25;\n",
    "        boolean isStudent = true;\n",
    "\n",
    "        if (age >= 18 && isStudent) {\n",
    "            System.out.println(\"You are an adult student.\");\n",
    "        } else if (age >= 18 || isStudent) {\n",
    "            System.out.println(\"You are either an adult or a student.\");\n",
    "        } else {\n",
    "            System.out.println(\"You are neither an adult nor a student.\");\n",
    "        }\n",
    "            }\n",
    "}\n",
    "Compound.main()"
   ]
  },
  {
   "cell_type": "markdown",
   "metadata": {},
   "source": [
    "#### Short-Circuited Evaluation:\n",
    "Short-circuited evaluation is an optimization technique where the second condition in a ``compound expression is only evaluated if the first condition is true (for &&) or false (for ||).``"
   ]
  },
  {
   "cell_type": "code",
   "execution_count": 11,
   "metadata": {},
   "outputs": [
    {
     "name": "stdout",
     "output_type": "stream",
     "text": [
      "This will be printed.\n"
     ]
    }
   ],
   "source": [
    "public class Short {\n",
    "    public static void main() {\n",
    "        boolean condition1 = true;\n",
    "        boolean condition2 = false;\n",
    "\n",
    "        if (condition1 || condition2) {\n",
    "            System.out.println(\"This will be printed.\");\n",
    "        }\n",
    "    }\n",
    "}\n",
    "\n",
    "Short.main()"
   ]
  },
  {
   "cell_type": "markdown",
   "metadata": {},
   "source": [
    "## Lesson 3.6\n",
    "\n",
    "De Morgan’s Law\n",
    "- Augustus De Morgan was a 19th century mathematician whose laws or rules about boolean logic allow us to simplify expressions when they are negated\n",
    "Given two Boolean variables a and b:\n",
    "\n",
    "``De Morgan's Law provides a set of rules for negating complex boolean expressions. ``\n",
    "\n",
    "Example:\n",
    "\n",
    "Using && operators:\n",
    "\n",
    "![image](https://github.com/Firestorm0986/frontend-proj/assets/108041389/e02209c1-c2f5-4dab-8106-6f97824d5322)\n",
    "\n",
    "Using \"||\" operator:\n",
    "\n",
    "![image](https://github.com/Firestorm0986/frontend-proj/assets/108041389/beb4e917-03c2-4709-96f9-88981ee69812)\n",
    "\n"
   ]
  },
  {
   "cell_type": "markdown",
   "metadata": {},
   "source": [
    "#### More:\n",
    "\n",
    "- !(x > 0) → (x <= 0)\n",
    "- Distributing a “not” with a boolean expression “flips” the relational operator to the opposite relational operator\n",
    "    - !(x < 0) → (x >= 0)\n",
    "    - !(x >= 0) → (x < 0)\n",
    "    - !(x == 0) → (x != 0)\n",
    "    - ! (x != 0) → ( x == 0) \n",
    "\n",
    "\n",
    "#### A bit more complex:\n",
    "![image](https://github.com/Firestorm0986/frontend-proj/assets/108041389/1fa9c9c3-db17-443c-94cc-0be8e6e62436)\n",
    "\n",
    "#### Proving the law using tables\n",
    "![image](https://github.com/Firestorm0986/frontend-proj/assets/108041389/cd135d80-df08-442b-aa73-35e8afbef96b)"
   ]
  },
  {
   "cell_type": "code",
   "execution_count": 13,
   "metadata": {},
   "outputs": [
    {
     "name": "stdout",
     "output_type": "stream",
     "text": [
      "Are the expressions equivalent? true\n"
     ]
    }
   ],
   "source": [
    "public class Example {\n",
    "    public static void main(){\n",
    "        boolean x = true;\n",
    "        boolean y = false;\n",
    "\n",
    "        // Original expression\n",
    "        boolean originalExp = !(x && y);\n",
    "\n",
    "        // Applying De Morgan's Law\n",
    "        boolean equivalentExp = !x || !y;\n",
    "\n",
    "        // Checking if the results are equivalent\n",
    "        System.out.println(\"Are the expressions equivalent? \" + (originalExp == equivalentExp));\n",
    "\n",
    "    }\n",
    "}\n",
    "Example.main()"
   ]
  },
  {
   "cell_type": "code",
   "execution_count": 14,
   "metadata": {},
   "outputs": [
    {
     "name": "stdout",
     "output_type": "stream",
     "text": [
      "Are the expressions equivalent? true\n"
     ]
    }
   ],
   "source": [
    "public class Example2 {\n",
    "    public static void main(){\n",
    "        boolean p = true;\n",
    "        boolean q = true;\n",
    "\n",
    "        // Original expression\n",
    "        boolean originalExp2 = !(p || q);\n",
    "\n",
    "        // Applying De Morgan's Law\n",
    "        boolean equivalentExp2 = !p && !q;\n",
    "\n",
    "        // Checking if the results are equivalent\n",
    "        System.out.println(\"Are the expressions equivalent? \" + (originalExp2 == equivalentExp2));\n",
    "    }\n",
    "}\n",
    "\n",
    "Example2.main()"
   ]
  },
  {
   "cell_type": "code",
   "execution_count": 15,
   "metadata": {},
   "outputs": [
    {
     "name": "stdout",
     "output_type": "stream",
     "text": [
      "Are the expressions equivalent? true\n"
     ]
    }
   ],
   "source": [
    "public class Example3 {\n",
    "    public static void main(){\n",
    "        boolean a = true;\n",
    "        boolean b = false;\n",
    "        boolean c = true;\n",
    "\n",
    "        // Original expression\n",
    "        boolean originalExp3 = !(a && b) || (c || !b);\n",
    "\n",
    "        // Applying De Morgan's Law\n",
    "        boolean equivalentExp3 = (!a || !b) || (c || b);\n",
    "\n",
    "        // Checking if the results are equivalent\n",
    "        System.out.println(\"Are the expressions equivalent? \" + (originalExp3 == equivalentExp3));\n",
    "\n",
    "    }\n",
    "}\n",
    "\n",
    "Example3.main()"
   ]
  }
 ],
 "metadata": {
  "kernelspec": {
   "display_name": "Java",
   "language": "java",
   "name": "java"
  },
  "language_info": {
   "codemirror_mode": {
    "name": "ipython",
    "version": 3
   },
   "file_extension": ".py",
   "mimetype": "text/x-python",
   "name": "java",
   "nbconvert_exporter": "python",
   "pygments_lexer": "ipython3",
   "version": "3.9.12"
  },
  "orig_nbformat": 4
 },
 "nbformat": 4,
 "nbformat_minor": 2
}
