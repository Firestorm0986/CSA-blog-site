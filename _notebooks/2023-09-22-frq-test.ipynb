{
 "cells": [
  {
   "cell_type": "markdown",
   "metadata": {},
   "source": [
    "---\n",
    "comments: true\n",
    "layout: post\n",
    "title: Sample FRQ\n",
    "description: Doing one of the sample frq's.\n",
    "type: tangibles\n",
    "courses: { csa: {week: 4} }\n",
    "---"
   ]
  },
  {
   "cell_type": "markdown",
   "metadata": {},
   "source": [
    "# Inital Question"
   ]
  },
  {
   "cell_type": "code",
   "execution_count": 27,
   "metadata": {},
   "outputs": [
    {
     "name": "stdout",
     "output_type": "stream",
     "text": [
      "20 40 80 \n",
      "40 50 50 \n",
      "30 20 10 \n",
      "0\n"
     ]
    }
   ],
   "source": [
    "import java.util.Random; // The code asks for a random number to be genrated. so I use hte Random class. Can also use Math.random()\n",
    "\n",
    "public class Data { // initializing the class \n",
    "    public static final int MAX = 100; // set to 100 for better understanding\n",
    "    private int[][] grid; // \n",
    "    public void repopulate(int rows, int columns){ // added two variables. These variables decide how many rows and columns the grid will have\n",
    "        this.grid = new int[rows][columns]; // as the grid is a privae variable of the class, have to use \"this.grid\" when calling it\n",
    "        int max = this.MAX; // initalizing a class variable to a method variable for easier use\n",
    "        int min = 1;\n",
    "        Random rand = new Random(); // creating a new object from the Random class to get random ints\n",
    "        /*\n",
    "         * Iterating through the grid length to get the rows\n",
    "         * then iterating through the the 2D array to get the columns (numbers)\n",
    "         * Getting a random int that is divisible by 10 but not by 100\n",
    "         * assigning that int to the position of hte respective row and column\n",
    "         */\n",
    "        for (int i = 0; i < this.grid.length; i++){ \n",
    "            for (int j = 0; j < this.grid[i].length; j++){\n",
    "                int num = 0;\n",
    "                while (!(num >= min && num <= max && num % 10 == 0 && num % 100 != 0)){\n",
    "                    num = rand.nextInt(max - min + 1) + min;\n",
    "                }\n",
    "                this.grid[i][j] = num;\n",
    "            }\n",
    "        }\n",
    "        \n",
    "    }\n",
    "    // Contructor for the Class. When a new class is created with an object, this is the first function called\n",
    "    public Data(int rows, int columns){\n",
    "        this.repopulate(rows, columns);\n",
    "    }\n",
    "\n",
    "    /*\n",
    "     * Calculating if the values are in increasing order for any of these columns. \n",
    "     * Iterates through each row and then checks if the row before in the same column had a smaller number or not\n",
    "     * return 0 if none and otherwise number of columns with the increasing order\n",
    "     */\n",
    "    public int countIncreasingCols(){\n",
    "        /* to be implemented in part b */\n",
    "        int count = 0;\n",
    "        for (int col = 0; col < this.grid[0].length; col ++){\n",
    "            boolean Ascending = true;\n",
    "            for (int row = 1; row < this.grid.length; row ++){\n",
    "             if(this.grid[row][col] < grid[row -1][col]){\n",
    "                Ascending = false;\n",
    "             }   \n",
    "            }\n",
    "            if (Ascending){\n",
    "                count ++;\n",
    "            }\n",
    "        }\n",
    "        return count;\n",
    "    }\n",
    "\n",
    "    // Getter method to display the output\n",
    "    public int[][] getter(){\n",
    "        return this.grid;\n",
    "    }\n",
    "\n",
    "    // This is here to show the output on to a terminal in jupyter. Not needed to answer the question or part of the answer.\n",
    "    public static void main(String[] args){\n",
    "        Data new_obj = new Data(3, 3);\n",
    "\n",
    "        int[][] grid = new_obj.getter();\n",
    "        int max = Data.MAX;\n",
    "        int min = 1;\n",
    "        Random rand = new Random();\n",
    "        for (int i = 0; i < grid.length; i++){\n",
    "            for (int j = 0; j < grid[i].length; j++){\n",
    "                System.out.print(grid[i][j] + \" \");\n",
    "            }\n",
    "            System.out.println();\n",
    "        }\n",
    "        int increasing_cols = new_obj.countIncreasingCols();\n",
    "        System.out.println(increasing_cols);\n",
    "    }\n",
    "}\n",
    "\n",
    "Data.main(null)"
   ]
  },
  {
   "cell_type": "code",
   "execution_count": 44,
   "metadata": {},
   "outputs": [
    {
     "name": "stdout",
     "output_type": "stream",
     "text": [
      "1 0 1 \n",
      "2 3 4 \n",
      "5 6 7 \n",
      "8 9 : \n"
     ]
    }
   ],
   "source": [
    "public class InitalizeKeypad {\n",
    "    private char[][] grid; \n",
    "\n",
    "    public InitalizeKeypad(){\n",
    "        this.keypad();\n",
    "    }\n",
    "\n",
    "    public void keypad(){\n",
    "        this.grid = new char[4][3];\n",
    "        char number = '1';\n",
    "        for (int i = 0; i < this.grid.length; i++){\n",
    "            for (int j = 0; j < this.grid[i].length; j++){\n",
    "                if (i == 0 && j == 1) {\n",
    "                    number = '0';\n",
    "                }\n",
    "                this.grid[i][j] = number;\n",
    "                number++;\n",
    "            }\n",
    "        }\n",
    "    }\n",
    "\n",
    "    public char[][] getter(){\n",
    "        return this.grid;\n",
    "    }\n",
    "    public static void main(String[] args){\n",
    "        InitalizeKeypad obj = new InitalizeKeypad(); \n",
    "\n",
    "        char[][] grid = obj.getter(); \n",
    "        for (int row = 0; row < grid.length; row++){\n",
    "            for (int col = 0; col < grid[row].length; col++){\n",
    "                System.out.print(grid[row][col] + \" \");\n",
    "            }\n",
    "            System.out.println();\n",
    "        }      \n",
    "    } \n",
    "}\n",
    "\n",
    "InitalizeKeypad.main(null)"
   ]
  }
 ],
 "metadata": {
  "kernelspec": {
   "display_name": "Java",
   "language": "java",
   "name": "java"
  },
  "language_info": {
   "codemirror_mode": "java",
   "file_extension": ".jshell",
   "mimetype": "text/x-java-source",
   "name": "java",
   "pygments_lexer": "java",
   "version": "11.0.20+8-post-Ubuntu-1ubuntu122.04"
  },
  "orig_nbformat": 4
 },
 "nbformat": 4,
 "nbformat_minor": 2
}
