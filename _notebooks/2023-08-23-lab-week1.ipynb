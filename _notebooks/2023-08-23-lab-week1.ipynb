{
 "cells": [
  {
   "cell_type": "markdown",
   "metadata": {},
   "source": [
    "---\n",
    "comments: true\n",
    "layout: post\n",
    "title: Lab Week 1\n",
    "description: Lab Notebook for Week 1, contains what I did and challenges I faced\n",
    "type: labs\n",
    "courses: { csa: {week: 1} }\n",
    "---"
   ]
  },
  {
   "cell_type": "markdown",
   "metadata": {},
   "source": [
    "## August 21 (Monday)\n",
    "### Summary\n",
    "Today we worked on building a project. For the project I decide to go with a simple to-do list generator. With some basic Html, js and bootstrap css (I am too lazy to write my own). I got it working.\n",
    "\n",
    "### Challenges\n",
    "- While making the to-do list I faced some problems where any click on screen would redirect me to home page\n",
    "\n",
    "## Fixes\n",
    "- i saw that there was a \"a\" or link tag in the default.html that I forgot to remove when I customized it. After removing that the code worked and i was successful. "
   ]
  },
  {
   "cell_type": "markdown",
   "metadata": {},
   "source": [
    "## August 22 (Tuesday)\n",
    "### Summary\n",
    "I worked on the idex.md. For the Index I added my class schedule and created a personal statement and my brand collage that shows who i am. I added that as well to the index and also a simple floating animation done using css (not js). I also did the bash and linux hacks. \n",
    "\n",
    "### Challenges\n",
    "- none just took time making the things"
   ]
  },
  {
   "cell_type": "markdown",
   "metadata": {},
   "source": [
    "## August 23 (Wednesday)\n",
    "### Summary\n",
    "today i worked on getting Java working and kernel setup and also making some more changes to the theme of the page. \n",
    "\n",
    "### challenges\n",
    "- Could not understand how to install java kernel\n",
    "\n",
    "### Fixes\n",
    "\n",
    "- As i did not know how to get java, instead of chatgpt or google I tried if my computer could give the answer. i was right. i typed \"Java --version\" and it told me I do not have java but through a specific command I could download it (openjdk). Once I did that and set up vscode it worked."
   ]
  }
 ],
 "metadata": {
  "language_info": {
   "name": "python"
  },
  "orig_nbformat": 4
 },
 "nbformat": 4,
 "nbformat_minor": 2
}
