{
 "cells": [
  {
   "cell_type": "markdown",
   "metadata": {},
   "source": [
    "---\n",
    "comments: true\n",
    "layout: post\n",
    "title: N@M event blog\n",
    "description: This is a blog for the N@M event\n",
    "type: hacks\n",
    "toc: true\n",
    "courses: { csa: {week: 20} }\n",
    "---"
   ]
  },
  {
   "cell_type": "markdown",
   "metadata": {},
   "source": [
    "## Data Captured\n",
    "- We made various people to input their predictions for the stocks after 2 months for their preferred ticker to then compare with our AI predictions and the real prediction. The same can be seen in the screenshot below in the \"Stats\" column. \n",
    "![image](https://github.com/Firestorm0986/CSA-blog-site/assets/108041389/dad2d9a2-91c6-4462-8f53-3da10c43d777)\n",
    "\n",
    "- We have saved this sqlite file locally to then use for the next trimester N@M to use and compare\n",
    "\n",
    "## Feedback\n",
    "- Some feedback that we received was from a very knowledgeable parent in this field who advised us to look at transformers as an alternative. We have started to look into this and if we find that it is way easier than our code in LSTM and more versatile we might consider switching to it.\n",
    "\n",
    "## The Team and I\n",
    "- along with people from period 3 I presented our project to from 630 to 7 but I was there the whole time.\n",
    "\n",
    "## Glows\n",
    "Our combined efforts especially David's frontend came in the clutch at the final hours before the presentaion a it made the website look cooler and easier to navigate. Moreover, the combnation of all of team members presenting hte project was helpful and very productive. Alex focused on explaining the AI and David and I worked on getting people to make their predictions and showing off our inital progress and website. Ethan, Rohin, and James helped in attracting people to our tables and also presented when others were preoccupied.\n",
    "\n",
    "## Grows\n",
    "I think we could have set up 2 computers instead of one to show off our peoject so that we could give everyone more and equal work while at the same time talk to more people. Better planning before presenting is defenetly something that we can grow on\n",
    "\n",
    "## Visuals\n",
    "![image](https://github.com/Firestorm0986/CSA-blog-site/assets/108041389/d28f1471-1955-4900-a54f-f567ed885f7a)\n",
    "![image](https://github.com/Firestorm0986/CSA-blog-site/assets/108041389/5d4efdbb-8589-452a-933e-58928e59d164)\n",
    "\n",
    "## On the Event\n",
    "\n",
    "### Things in CS \n",
    "- One of the project was using image processing to process hand signs to intrepet and translate ASL so that we can better reach other people. this was a really intresting project because of its uniqueness and consistency with the theme. \n",
    "\n",
    "### Things outside of CS\n",
    "- One of my friends made an edit of LeBron James and I found that really appealing becuase of hte sound track he used and also linning up dunks with the beats highligted it even more. \n"
   ]
  }
 ],
 "metadata": {
  "language_info": {
   "name": "python"
  }
 },
 "nbformat": 4,
 "nbformat_minor": 2
}
