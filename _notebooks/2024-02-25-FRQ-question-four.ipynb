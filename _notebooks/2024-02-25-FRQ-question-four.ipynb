{
 "cells": [
  {
   "cell_type": "markdown",
   "metadata": {},
   "source": [
    "---\n",
    "comments: true\n",
    "layout: post\n",
    "title: 2015 FRQ Question 4\n",
    "description: This is the answer to the 2015 FRQ Question 4\n",
    "type: hacks\n",
    "toc: true\n",
    "courses: { csa: {week: 20} }\n",
    "---"
   ]
  },
  {
   "cell_type": "markdown",
   "metadata": {},
   "source": [
    "## Question 4 - Methods and Control Structures\n",
    "![image](https://github.com/Firestorm0986/CSA-blog-site/assets/108041389/859792fb-d06e-459e-9951-83703f9a5e73)\n",
    "![image](https://github.com/Firestorm0986/CSA-blog-site/assets/108041389/fe533998-f53c-4c3b-a28f-4990392e2d5c)\n",
    "![image](https://github.com/Firestorm0986/CSA-blog-site/assets/108041389/20e620eb-8b4c-4b86-b345-18481809eb7d)\n",
    "\n",
    "## Answer\n",
    "Check `Comments` for specific part answers"
   ]
  },
  {
   "cell_type": "code",
   "execution_count": 1,
   "metadata": {},
   "outputs": [
    {
     "name": "stdout",
     "output_type": "stream",
     "text": [
      "Contains 2: true\n",
      "Contains 9: false\n",
      "Contains 6: true\n"
     ]
    }
   ],
   "source": [
    "// part a\n",
    "public interface NumberGroup {\n",
    "    boolean contains(int number);\n",
    "}\n",
    "// part b\n",
    "public class Range implements NumberGroup {\n",
    "    private int min;\n",
    "    private int max;\n",
    "\n",
    "    // Constructor that sets the minimum and maximum values of the range\n",
    "    public Range(int min, int max) {\n",
    "        this.min = min;\n",
    "        this.max = max;\n",
    "    }\n",
    "\n",
    "    // Implementation of the contains method from the NumberGroup interface\n",
    "    @Override\n",
    "    public boolean contains(int number) {\n",
    "        return number >= min && number <= max;\n",
    "    }\n",
    "}\n",
    "// part c\n",
    "import java.util.List;\n",
    "import java.util.ArrayList;\n",
    "\n",
    "public class MultipleGroups implements NumberGroup {\n",
    "    private List<NumberGroup> groupList;\n",
    "\n",
    "    // Constructor\n",
    "    public MultipleGroups() {\n",
    "        this.groupList = new ArrayList<NumberGroup>();\n",
    "    }\n",
    "\n",
    "    // Method to add a NumberGroup to the groupList\n",
    "    public void addGroup(NumberGroup group) {\n",
    "        groupList.add(group);\n",
    "    }\n",
    "\n",
    "    // Implementation of the contains method\n",
    "    @Override\n",
    "    public boolean contains(int number) {\n",
    "        for (NumberGroup group : groupList) {\n",
    "            if (group.contains(number)) {\n",
    "                return true;\n",
    "            }\n",
    "        }\n",
    "        return false;\n",
    "    }\n",
    "}\n",
    "// Testing \n",
    "public class TestNumberGroups {\n",
    "    public static void main(String[] args) {\n",
    "        MultipleGroups multiple1 = new MultipleGroups();\n",
    "        multiple1.addGroup(new Range(5, 8));\n",
    "        multiple1.addGroup(new Range(10, 12));\n",
    "        multiple1.addGroup(new Range(1, 6));\n",
    "\n",
    "        System.out.println(\"Contains 2: \" + multiple1.contains(2)); // true\n",
    "        System.out.println(\"Contains 9: \" + multiple1.contains(9)); // false\n",
    "        System.out.println(\"Contains 6: \" + multiple1.contains(6)); // true\n",
    "    }\n",
    "}\n",
    "TestNumberGroups.main(null)"
   ]
  },
  {
   "cell_type": "markdown",
   "metadata": {},
   "source": [
    "## Explain\n",
    "### Part A\n",
    "The NumberGroup interface defines a single method, contains, which takes an integer as a parameter and returns a boolean indicating whether the integer is part of the group.\n",
    "\n",
    "### Part B\n",
    "The Range class implements the NumberGroup interface. It represents a group of integers that fall within a specified range, including both the minimum and maximum values. The contains method checks if a given integer is within this range.\n",
    "\n",
    "### PArt C \n",
    "The MultipleGroups class also implements the NumberGroup interface. It represents a collection of NumberGroup objects, stored in the groupList. The contains method checks if a given integer is contained in one or more of the number groups in groupList which is overriden or polymorphed from another method of a extened class.\n"
   ]
  },
  {
   "cell_type": "markdown",
   "metadata": {},
   "source": [
    "## Project Connection\n",
    "through out the project files at various places `overide` has been used to change specfic class methods to match out databse and requirements. One of the examples in the CustonDateSerialize.java file. Here the method `deserialize` is overriden from the calss `StdDeserializer`. The smae file also uses other polymorphing actions such as extending the `StdDeserializer` function.  Just as CustomDateDeserializer adapts the behavior of JSON deserialization to suit specific formatting requirements, the classes in question 4 (e.g., Range and MultipleGroups) implement or extend predefined behaviors (contains method from the NumberGroup interface) to fulfill specific contracts or interfaces.\n",
    "\n",
    "![image](https://github.com/Firestorm0986/CSA-blog-site/assets/108041389/e97685e7-0790-4361-88ec-22a6525be321)"
   ]
  }
 ],
 "metadata": {
  "kernelspec": {
   "display_name": "Java",
   "language": "java",
   "name": "java"
  },
  "language_info": {
   "codemirror_mode": "java",
   "file_extension": ".jshell",
   "mimetype": "text/x-java-source",
   "name": "java",
   "pygments_lexer": "java",
   "version": "20.0.2+9"
  }
 },
 "nbformat": 4,
 "nbformat_minor": 2
}
