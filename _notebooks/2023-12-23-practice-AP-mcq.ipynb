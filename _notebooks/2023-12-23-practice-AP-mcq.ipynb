{
 "cells": [
  {
   "cell_type": "markdown",
   "metadata": {},
   "source": [
    "---\n",
    "comments: true\n",
    "layout: default\n",
    "title: 2015 Practice AP MCQ\n",
    "description: This is a blog about the questions in practice AP exam 2015\n",
    "type: hacks\n",
    "toc: true\n",
    "courses: { csa: {week: 18} }\n",
    "---"
   ]
  },
  {
   "cell_type": "markdown",
   "metadata": {},
   "source": [
    "## Score\n",
    "![image](https://github.com/Firestorm0986/CSA-blog-site/assets/108041389/afe712be-eeef-4c8c-a12d-99a1c3c65c98)\n",
    "\n",
    "## Questions I got wrong - \n",
    "1) ![image](https://github.com/Firestorm0986/CSA-blog-site/assets/108041389/dd2ba020-af8a-4835-a678-1c4fee96c267)\n",
    "- This question got me because I was not focued and put the wrong answer. Thinking back and using a paper to evalute I understood that first, the logical OR (||) operator is evaluated. It returns true if at least one of its operands is true. If both x and y are true, or if only one of them is true, then the result of (x || y) is true. \n",
    "- Then, the result of the logical OR operation is combined with the value of x using the logical AND (&&) operator. The overall result is true only if both (x || y) is true and x is true.\n",
    "- So, the final result of the expression (x || y) && x is true if both (x || y) and x are true. Otherwise, the result is false. Hence the answer is `x`\n",
    "\n",
    "2) ![image](https://github.com/Firestorm0986/CSA-blog-site/assets/108041389/6ec7699b-bdd2-4b7f-8e02-0ba7527af5ff)\n",
    "- In this question I forgot how insertion sort worked. After reviewing the sorting alorithm I learned that in the first pass, the insertItem is 4. It is compared to the element before it, which is 5. Since 4 is less than 5, it is inserted before 5. The array becomes [4, 5, 3, 2, 1].\n",
    "In the second pass, the insertItem is 3. It is compared to the elements before it, which are 4 and 5. Since 3 is less than both 4 and 5, it is inserted before 4. The array becomes [3, 4, 5, 2, 1].\n",
    "\n",
    "3) ![image](https://github.com/Firestorm0986/CSA-blog-site/assets/108041389/d7ace9b2-331f-4f95-a778-b80847d7f83a)\n",
    "- I got this question wrong because I read the answer choices wrong, I read the second one to be similar as one of the methods provided in the class but another look shows that `II and III` are new methods with diffrent parameters and hence will not have compile time errors. As the `I` is identical to another method already defined it will cause compile time error.\n",
    "\n",
    "4) ![image](https://github.com/Firestorm0986/CSA-blog-site/assets/108041389/ed23dad3-8d83-4306-8029-ebf4379be32b)\n",
    "- I got this wrong because of my impulse clicks. I did not see that the varible defined in the inner loop did not start from O instead was equal to `x`. Hence the answer is 10 and not 4^2 = 16. This would be the value of `count` if the inner loop started iterating at 0 each time instead of x.\n",
    "\n",
    "5) ![image](https://github.com/Firestorm0986/CSA-blog-site/assets/108041389/dcb2246f-6252-4325-bfb5-e982e986238b)\n",
    "- This image would require the second set of nested loops to initialize row to val – 1, increment both row and col in each iteration inner loop (instead of row being decremented) and changing the condition on the inner loop to col < 5 && row < 5. I just miscalculated the positions of the loop due to my hurriedness to finish the test.\n",
    "\n",
    "\n",
    "## Questions I found interesting \n",
    "\n",
    "1) Question 10 - the use of interface was realitely new and I had to look up that word once I had taken a quess on my answer. Luckyly, my guess was right and I was able to understand something new as well.\n",
    "\n",
    "2) Question 18 - I use a diffrent order of operations that I learned in India and hence had to look up how it is used in the SUA to get this one right.Additionally added to this was the idea of no decimal point when integers are divided by an integer which made this question confusing and tricky. \n",
    "\n",
    "3) Question 39 - I forgot how the set method works and looked up the method defination in Java to get this answer. It returns the value that was at the index before the change and if I had not looked up the method definition I would have got this one wrong. "
   ]
  }
 ],
 "metadata": {
  "language_info": {
   "name": "python"
  }
 },
 "nbformat": 4,
 "nbformat_minor": 2
}
