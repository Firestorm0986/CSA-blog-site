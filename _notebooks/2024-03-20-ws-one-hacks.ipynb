{
 "cells": [
  {
   "cell_type": "markdown",
   "metadata": {},
   "source": [
    "---\n",
    "comments: true\n",
    "layout: post\n",
    "title: Workshop 1 Hacks\n",
    "description: This blog contains the hacks for the first workshop lessons\n",
    "type: hacks\n",
    "toc: true\n",
    "courses: { csa: {week: 23} }\n",
    "---"
   ]
  },
  {
   "cell_type": "markdown",
   "metadata": {},
   "source": [
    "## Question 1\n",
    "(a) Definitions and Examples\n",
    "In Java, there are two types of data types: primitive types and reference types.\n",
    "\n",
    "Primitive types are the basic types of data. They store simple values directly in the location they occupy in memory. Java has 8 primitive types: byte, short, int, long, float, double, boolean, and char. For example, int age = 30; is a primitive type storing the integer value 30.\n",
    "\n",
    "Reference types store references (or addresses) to the actual data. The reference points to a location in memory where the data is stored. Classes, interfaces, arrays, and enums are reference types. An example of a reference type is String name = \"John Doe\"; where name is a reference to a string object stored in memory.\n",
    "\n",
    "(b) Memory Allocation and Usage\n",
    "Primitive types are stored in the stack memory, which allows for fast access but has limited size. Each variable directly contains its value, and when you assign it to another variable, a fresh copy of the value is created and stored.\n",
    "\n",
    "Reference types are stored in the heap memory, which is used for dynamic memory allocation where the size of the memory needed doesn't need to be known before runtime. When you assign a reference type to another variable, both variables now point to the same data in memory rather than creating a new copy. If you modify the data using one reference, the change is visible through all references.\n",
    "\n",
    "## Code"
   ]
  },
  {
   "cell_type": "code",
   "execution_count": 1,
   "metadata": {
    "vscode": {
     "languageId": "java"
    }
   },
   "outputs": [],
   "source": [
    "class Customer {\n",
    "    // Assume other properties like name, ID, etc., are defined here\n",
    "}\n",
    "\n",
    "public class BankingApplication {\n",
    "    /**\n",
    "     * Calculates the interest for a given principal amount for a customer.\n",
    "     *\n",
    "     * @param principal The principal amount.\n",
    "     * @param customer  The customer for whom the interest is calculated.\n",
    "     * @return The interest amount calculated.\n",
    "     */\n",
    "    public double calculateInterest(double principal, Customer customer) {\n",
    "        // Assuming a fixed interest rate of 5%\n",
    "        final double interestRate = 0.05;\n",
    "        double interest = principal * interestRate;\n",
    "        \n",
    "        // Further processing with the customer information if necessary\n",
    "        \n",
    "        return interest;\n",
    "    }\n",
    "}\n",
    "\n",
    "\n"
   ]
  },
  {
   "cell_type": "markdown",
   "metadata": {},
   "source": [
    "## Question 2\n",
    "(a) Concept and Example Scenario\n",
    "Iterating over a 2D array involves traversing the array row by row (or column by column) and accessing each element individually. A common use case for 2D arrays is representing matrices, grids, or any situation where you need a row and column structure. For instance, in a game development context, a 2D array can represent a game board or grid where each cell holds information like player scores across different levels and attempts.\n",
    "\n",
    "## Code"
   ]
  },
  {
   "cell_type": "code",
   "execution_count": null,
   "metadata": {
    "vscode": {
     "languageId": "java"
    }
   },
   "outputs": [],
   "source": [
    "public class GameApplication {\n",
    "    /**\n",
    "     * Calculates the total score from a 2D array of scores.\n",
    "     *\n",
    "     * @param scores The 2D array containing player scores.\n",
    "     * @return The total sum of all scores.\n",
    "     */\n",
    "    public int calculateTotalScore(int[][] scores) {\n",
    "        int totalScore = 0;\n",
    "        \n",
    "        // Iterate over each row\n",
    "        for (int i = 0; i < scores.length; i++) {\n",
    "            // Iterate over each column in the row\n",
    "            for (int j = 0; j < scores[i].length; j++) {\n",
    "                totalScore += scores[i][j]; // Add the score to the total\n",
    "            }\n",
    "        }\n",
    "        \n",
    "        return totalScore;\n",
    "    }\n",
    "}\n"
   ]
  },
  {
   "cell_type": "markdown",
   "metadata": {},
   "source": []
  }
 ],
 "metadata": {
  "kernelspec": {
   "display_name": "Java",
   "language": "java",
   "name": "java"
  },
  "language_info": {
   "codemirror_mode": "java",
   "file_extension": ".jshell",
   "mimetype": "text/x-java-source",
   "name": "Java",
   "pygments_lexer": "java",
   "version": "20.0.2+9"
  }
 },
 "nbformat": 4,
 "nbformat_minor": 2
}
