{
 "cells": [
  {
   "cell_type": "markdown",
   "metadata": {},
   "source": [
    "---\n",
    "comments: true\n",
    "layout: post\n",
    "title: Math Lesson\n",
    "description: This is a complete lesson for the Math topic\n",
    "type: hacks\n",
    "toc: true\n",
    "courses: { csa: {week: 22} }\n",
    "---"
   ]
  },
  {
   "cell_type": "markdown",
   "metadata": {},
   "source": [
    "## Intro\n",
    "The Math class in Java is part of the java.lang package, which is automatically imported, hence you don't need to manually import it. The Math class provides a collection of methods and constants for performing mathematical operations.\n",
    "\n",
    "## Key points about the Math class:\n",
    "- Static Methods: The methods of the Math class are static, meaning you can call them directly using the class name without needing to create an instance of the Math class. For example, Math.sqrt(25) will return 5.0.\n",
    "Commonly Used Methods:\n",
    "- Math.abs(double a): Returns the absolute value of a.\n",
    "- Math.sqrt(double a): Returns the square root of a.\n",
    "- Math.pow(double a, double b): Returns a raised to the power of b.\n",
    "- Math.max(double a, double b): Returns the greater of a and b.\n",
    "- Math.min(double a, double b): Returns the lesser of a and b.\n",
    "- Math.round(double a): Rounds a to the nearest integer.\n",
    "- Math.random(): Returns a double value greater than or equal to 0.0 and less than 1.0.\n",
    "\n",
    "## Evaluation of Expressions Using the Math Class\n",
    "Let's dive into evaluating expressions and demonstrating program statements using Math class methods. We will explore how to use these methods in Java code through examples.\n",
    "\n",
    "### Example 1: Calculating the Hypotenuse of a Right Triangle"
   ]
  },
  {
   "cell_type": "code",
   "execution_count": null,
   "metadata": {},
   "outputs": [],
   "source": [
    "public class Triangle {\n",
    "    public static void main(String[] args){\n",
    "        double a = 3;\n",
    "        double b = 4;\n",
    "        double c = Math.sqrt(Math.pow(a, 2) + Math.pow(b, 2));\n",
    "        System.out.println(\"Hypotenuse: \" + c);\n",
    "    }\n",
    "}\n",
    "Triangle.main(null)"
   ]
  },
  {
   "cell_type": "markdown",
   "metadata": {},
   "source": [
    "### Example 2: Finding the Larger of Two Numbers"
   ]
  },
  {
   "cell_type": "code",
   "execution_count": null,
   "metadata": {},
   "outputs": [],
   "source": [
    "public class Larger{\n",
    "    public static void main(String[] args){\n",
    "        double num1 = 7.25;\n",
    "        double num2 = 7.20;\n",
    "        double larger = Math.max(num1, num2);\n",
    "        System.out.println(\"The larger number is: \" + larger);\n",
    "    }\n",
    "}\n",
    "Larger.main(null)"
   ]
  },
  {
   "cell_type": "markdown",
   "metadata": {},
   "source": [
    "## Using Math.random() and Setting Up a Range\n",
    "Math.random() is a versatile method used to generate random numbers. However, it returns a double value that is greater than or equal to 0.0 and less than 1.0. Often, you'll need a random integer within a specific range, say from min to max (inclusive). To achieve this, you can scale and shift the result of Math.random().\n",
    "\n",
    "### Example: Generating a Random Integer Between 1 and 10"
   ]
  },
  {
   "cell_type": "code",
   "execution_count": null,
   "metadata": {},
   "outputs": [],
   "source": [
    "public class Generate{\n",
    "    public static void main(String[] args){\n",
    "        int min = 1;\n",
    "        int max = 10;\n",
    "        int randomNum = (int)(Math.random() * ((max - min) + 1)) + min;\n",
    "        System.out.println(\"Random Number: \" + randomNum);\n",
    "    }\n",
    "}\n",
    "Generate.main(null)"
   ]
  },
  {
   "cell_type": "markdown",
   "metadata": {},
   "source": [
    "\n",
    "## Hacks\n",
    "Complete part (a) of the [2022 APCSA FRQ](https://apcentral.collegeboard.org/media/pdf/ap22-frq-computer-science-a.pdf)\n",
    "4. This question involves a two-dimensional array of integers that represents a collection of randomly generated data. A partial declaration of the Data class is shown. You will write two methods of the Data class.\n",
    "```public class Data {\n",
    "public static final int MAX = value not shown */;\n",
    "private int[][] grid;\n",
    "/** Fills all elements of grid with randomly generated values, as described in part (a)\n",
    "* Precondition: grid is not null.\n",
    "* grid has at least one element.\n",
    "*/\n",
    "public void repopulate()\n",
    "{ /* to be implemented in part (a) */ }\n",
    "/** Returns the number of columns in grid that are in increasing order, as described\n",
    "* in part (b)\n",
    "* Precondition: grid is not null.\n",
    "* grid has at least one element.\n",
    "*/\n",
    "public int countIncreasingCols()\n",
    "{ /* to be implemented in part (b) */ }\n",
    "// There may be instance variables, constructors, and methods that are not shown.\n",
    "\n",
    "(a) Write the repopulate method, which assigns a newly generated random value to each element of grid. Each value is computed to meet all of the following criteria, and all valid values must have an equal chance of being generated.\n",
    "• The value is between 1 and MAX, inclusive.\n",
    "• The value is divisible by 10.\n",
    "• The value is not divisible by 100.\n",
    "Complete the repopulate method.\n",
    "/** Fills all elements of grid with randomly generated values, as described in part (a)\n",
    "* Precondition: grid is not null.\n",
    "* grid has at least one element.\n",
    "*/\n",
    "public void repopulate ()"
   ]
  }
 ],
 "metadata": {
  "kernelspec": {
   "display_name": "Java",
   "language": "java",
   "name": "java"
  },
  "language_info": {
   "codemirror_mode": "java",
   "file_extension": ".jshell",
   "mimetype": "text/x-java-source",
   "name": "java",
   "pygments_lexer": "java",
   "version": "20.0.2+9"
  }
 },
 "nbformat": 4,
 "nbformat_minor": 2
}
