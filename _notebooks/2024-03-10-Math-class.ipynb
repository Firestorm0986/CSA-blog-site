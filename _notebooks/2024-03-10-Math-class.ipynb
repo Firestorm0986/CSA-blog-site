{
 "cells": [
  {
   "cell_type": "markdown",
   "metadata": {},
   "source": [
    "---\n",
    "comments: true\n",
    "layout: post\n",
    "title: First Individual Review Tri 3 \n",
    "description: Individual review For Tri 3 Blog\n",
    "type: hacks\n",
    "toc: true\n",
    "courses: { csa: {week: 21} }\n",
    "---"
   ]
  },
  {
   "cell_type": "markdown",
   "metadata": {},
   "source": [
    "## Intro\n",
    "The Math class in Java is part of the java.lang package, which is automatically imported, hence you don't need to manually import it. The Math class provides a collection of methods and constants for performing mathematical operations.\n",
    "\n",
    "## Key points about the Math class:\n",
    "- Static Methods: The methods of the Math class are static, meaning you can call them directly using the class name without needing to create an instance of the Math class. For example, Math.sqrt(25) will return 5.0.\n",
    "Commonly Used Methods:\n",
    "- Math.abs(double a): Returns the absolute value of a.\n",
    "- Math.sqrt(double a): Returns the square root of a.\n",
    "- Math.pow(double a, double b): Returns a raised to the power of b.\n",
    "- Math.max(double a, double b): Returns the greater of a and b.\n",
    "- Math.min(double a, double b): Returns the lesser of a and b.\n",
    "- Math.round(double a): Rounds a to the nearest integer.\n",
    "- Math.random(): Returns a double value greater than or equal to 0.0 and less than 1.0.\n",
    "\n",
    "## Evaluation of Expressions Using the Math Class\n",
    "Let's dive into evaluating expressions and demonstrating program statements using Math class methods. We will explore how to use these methods in Java code through examples.\n",
    "\n",
    "### Example 1: Calculating the Hypotenuse of a Right Triangle"
   ]
  },
  {
   "cell_type": "code",
   "execution_count": null,
   "metadata": {
    "vscode": {
     "languageId": "java"
    }
   },
   "outputs": [],
   "source": [
    "public class Triangle {\n",
    "    public static void main(String[] args){\n",
    "        double a = 3;\n",
    "        double b = 4;\n",
    "        double c = Math.sqrt(Math.pow(a, 2) + Math.pow(b, 2));\n",
    "        System.out.println(\"Hypotenuse: \" + c);\n",
    "    }\n",
    "}\n",
    "Triangle.main(null)"
   ]
  },
  {
   "cell_type": "markdown",
   "metadata": {},
   "source": [
    "### Example 2: Finding the Larger of Two Numbers"
   ]
  },
  {
   "cell_type": "code",
   "execution_count": null,
   "metadata": {
    "vscode": {
     "languageId": "java"
    }
   },
   "outputs": [],
   "source": [
    "public class Larger{\n",
    "    public static void main(String[] args){\n",
    "        double num1 = 7.25;\n",
    "        double num2 = 7.20;\n",
    "        double larger = Math.max(num1, num2);\n",
    "        System.out.println(\"The larger number is: \" + larger);\n",
    "    }\n",
    "}\n",
    "Larger.main(null)"
   ]
  },
  {
   "cell_type": "markdown",
   "metadata": {},
   "source": [
    "## Using Math.random() and Setting Up a Range\n",
    "Math.random() is a versatile method used to generate random numbers. However, it returns a double value that is greater than or equal to 0.0 and less than 1.0. Often, you'll need a random integer within a specific range, say from min to max (inclusive). To achieve this, you can scale and shift the result of Math.random().\n",
    "\n",
    "### Example: Generating a Random Integer Between 1 and 10"
   ]
  },
  {
   "cell_type": "code",
   "execution_count": null,
   "metadata": {
    "vscode": {
     "languageId": "java"
    }
   },
   "outputs": [],
   "source": [
    "public class Generate{\n",
    "    public static void main(String[] args){\n",
    "        int min = 1;\n",
    "        int max = 10;\n",
    "        int randomNum = (int)(Math.random() * ((max - min) + 1)) + min;\n",
    "        System.out.println(\"Random Number: \" + randomNum);\n",
    "    }\n",
    "}\n",
    "Generate.main(null)"
   ]
  },
  {
   "cell_type": "markdown",
   "metadata": {},
   "source": [
    "## Hacks\n",
    "`TODO:` **find a FRQ that uses Math methods and give that hacks**"
   ]
  }
 ],
 "metadata": {
  "kernelspec": {
   "display_name": "Java",
   "language": "java",
   "name": "java"
  },
  "language_info": {
   "codemirror_mode": "java",
   "file_extension": ".jshell",
   "mimetype": "text/x-java-source",
   "name": "Java",
   "pygments_lexer": "java",
   "version": "20.0.2+9"
  }
 },
 "nbformat": 4,
 "nbformat_minor": 2
}
