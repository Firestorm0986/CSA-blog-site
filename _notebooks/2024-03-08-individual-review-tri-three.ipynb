{
 "cells": [
  {
   "cell_type": "markdown",
   "metadata": {},
   "source": [
    "---\n",
    "comments: true\n",
    "layout: post\n",
    "title: First Individual Review Tri 3 \n",
    "description: Individual review For Tri 3 Blog\n",
    "type: hacks\n",
    "toc: true\n",
    "courses: { csa: {week: 21} }\n",
    "---"
   ]
  },
  {
   "cell_type": "markdown",
   "metadata": {},
   "source": [
    "## Tri 2 Grade\n",
    "- Got above **93%**\n",
    "## Collabration \n",
    "  - I lead the team in P3 to complete tasks of the project. Assigned tasks and also helped in debugging (James)\n",
    "  - [Helped James Create Stocks View](https://firestorm0986.github.io/CSA-blog-site//2023/09/04/sms-api.html)\n",
    "  - Collaborated with David in creating Person Database and Admin Login with JWT - [link](https://github.com/CSA-AI/CSA_AI_Backend/pull/3)\n",
    "\n",
    "## Individual Progress\n",
    "  -  AP Prep - [sample FRQ 2021](https://firestorm0986.github.io/CSA-blog-site//2023/09/18/sample-frq1_IPYNB_2_.html)\n",
    "     - Also 2015 FRQ I got 3.6/3.6 as marks for full complete and correct code\n",
    "  - Using issues and blogs for Individual review ![image](https://github.com/Firestorm0986/CSA-blog-site/assets/108041389/eb3d19ef-3be2-40ad-aaee-ef9851377a34)\n",
    "  - Key Commits - JWT and ClassCodes\n",
    "![image](https://github.com/Firestorm0986/CSA-blog-site/assets/108041389/84c370fe-ae26-41cb-b1f9-e6049893f4de)\n",
    "![image](https://github.com/Firestorm0986/CSA-blog-site/assets/108041389/91b938aa-0cc4-4fe6-a67d-c51994d6795d)\n",
    "  - Scrum Board - The Green image is me\n",
    "![image](https://github.com/Firestorm0986/CSA-blog-site/assets/108041389/b501873f-1292-45fd-b9ed-6f47d78fa50a)\n",
    "\n",
    "\n",
    "## Github Analytics\n",
    "- ![image](https://github.com/Firestorm0986/CSA-blog-site/assets/108041389/94636e6e-1953-4b30-a5fc-d29ab6cdd2f6)\n",
    "- ![image](https://github.com/Firestorm0986/CSA-blog-site/assets/108041389/c5d5c9bd-5fb9-400c-80eb-597131dcb853)\n",
    "    - Room For improvement --> more smaller commits and not large commits"
   ]
  }
 ],
 "metadata": {
  "language_info": {
   "name": "python"
  }
 },
 "nbformat": 4,
 "nbformat_minor": 2
}
