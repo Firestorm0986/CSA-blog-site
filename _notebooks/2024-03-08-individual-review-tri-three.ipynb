{
 "cells": [
  {
   "cell_type": "markdown",
   "metadata": {},
   "source": [
    "---\n",
    "comments: true\n",
    "layout: post\n",
    "title: First Individual Review Tri 3 \n",
    "description: Individual review For Tri 3 Blog\n",
    "type: hacks\n",
    "toc: true\n",
    "courses: { csa: {week: 21} }\n",
    "---"
   ]
  },
  {
   "cell_type": "markdown",
   "metadata": {},
   "source": [
    "## Tri 2 Grade\n",
    "- Got above **93%**\n",
    "## Collabration \n",
    "  - I lead the team in P3 to complete tasks of the project. Assigned tasks and also helped in debugging (James)\n",
    "  - [Helped James Create Stocks View](https://firestorm0986.github.io/CSA-blog-site//2023/09/04/sms-api.html)\n",
    "  - Collaborated with David in creating Person Database and Admin Login with JWT - [link](https://github.com/CSA-AI/CSA_AI_Backend/pull/3)\n",
    "\n",
    "## Individual Progress\n",
    "  -  AP Prep - [sample FRQ 2021](https://firestorm0986.github.io/CSA-blog-site//2023/09/18/sample-frq1_IPYNB_2_.html)\n",
    "     - Also 2015 FRQ I got 3.6/3.6 as marks for full complete and correct code\n",
    "  - Using issues and blogs for Individual review ![image](https://github.com/Firestorm0986/CSA-blog-site/assets/108041389/eb3d19ef-3be2-40ad-aaee-ef9851377a34)\n",
    "  - Key Commits - JWT and ClassCodes\n",
    "![image](https://github.com/Firestorm0986/CSA-blog-site/assets/108041389/84c370fe-ae26-41cb-b1f9-e6049893f4de)\n",
    "![image](https://github.com/Firestorm0986/CSA-blog-site/assets/108041389/91b938aa-0cc4-4fe6-a67d-c51994d6795d)\n",
    "  - Scrum Board - The Green image is me\n",
    "![image](https://github.com/Firestorm0986/CSA-blog-site/assets/108041389/b501873f-1292-45fd-b9ed-6f47d78fa50a)\n",
    "\n",
    "\n",
    "## Github Analytics\n",
    "- ![image](https://github.com/Firestorm0986/CSA-blog-site/assets/108041389/94636e6e-1953-4b30-a5fc-d29ab6cdd2f6)\n",
    "- ![image](https://github.com/Firestorm0986/CSA-blog-site/assets/108041389/c5d5c9bd-5fb9-400c-80eb-597131dcb853)\n",
    "    - Room For improvement --> more smaller commits and not large commits"
   ]
  },
  {
   "cell_type": "markdown",
   "metadata": {},
   "source": [
    "## Debugging Grade - \n",
    "- [x] Debugging Frontend\n",
    "   - [x] fetch function - \n",
    "![image](https://github.com/Firestorm0986/CSA-blog-site/assets/108041389/771c3a8f-6439-4254-a941-f66a68524768)\n",
    "![image](https://github.com/Firestorm0986/CSA-blog-site/assets/108041389/db77d695-3663-47e2-a329-81295619125c)\n",
    "\n",
    "   - [x] .then - ![image](https://github.com/Firestorm0986/CSA-blog-site/assets/108041389/67baffb7-fb2a-4c5d-85bd-77c4e4121b13)\n",
    "- [x] Debugging Backend\n",
    "   - [x] Getting person id- \n",
    "![image](https://github.com/Firestorm0986/CSA-blog-site/assets/108041389/9a3da1a0-0d72-4c20-bc4d-ee9310615439)\n",
    "   -[ ] Getting complete data - \n",
    "![image](https://github.com/Firestorm0986/CSA-blog-site/assets/108041389/7e89a893-576a-487e-8ca7-309b1dc9d304)\n",
    "- [x] After Step over in Backend - \n",
    "   - [x] The frontend having the data - \n",
    "![image](https://github.com/Firestorm0986/CSA-blog-site/assets/108041389/74c346c7-ccdc-43ad-bbea-fdd24f1d6460)\n",
    "\n",
    "- Faliure - \n",
    "![image](https://github.com/Firestorm0986/CSA-blog-site/assets/108041389/c984fa6f-6495-4c73-b595-a82400c7806c)\n",
    "![image](https://github.com/Firestorm0986/CSA-blog-site/assets/108041389/e468608b-b416-47c4-9532-bf808a46d0e1)\n",
    "![image](https://github.com/Firestorm0986/CSA-blog-site/assets/108041389/b7d71bae-ed44-4dae-91e2-c03c6384c97d)\n",
    "## Grade - \n",
    "https://github.com/Firestorm0986/CSA-blog-site/issues/14\n"
   ]
  },
  {
   "cell_type": "markdown",
   "metadata": {},
   "source": [
    "## Something Cool\n",
    "Class Code - \n",
    "![image](https://github.com/Firestorm0986/CSA-blog-site/assets/108041389/37bd5a0a-e761-49bd-9053-d1e161a6da62)\n"
   ]
  }
 ],
 "metadata": {
  "language_info": {
   "name": "python"
  }
 },
 "nbformat": 4,
 "nbformat_minor": 2
}
