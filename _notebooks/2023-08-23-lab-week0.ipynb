{
 "cells": [
  {
   "cell_type": "markdown",
   "metadata": {},
   "source": [
    "---\n",
    "comments: true\n",
    "layout: post\n",
    "title: Lab Week 0\n",
    "description: Lab Notebook for Week 0, contains what I did and challenges I faced\n",
    "type: labs\n",
    "courses: { csa: {week: 0} }\n",
    "---"
   ]
  },
  {
   "cell_type": "markdown",
   "metadata": {},
   "source": [
    "## August 16\n",
    "We conducted an introduction and got coding trying to get tools and equipment setup. \n",
    "### Challenges\n",
    "- the ``` make ``` command did not work, needed to use another command to run the localhost.\n",
    "\n",
    "### Fixes/solutions\n",
    "\n",
    "- Commenting a line in the Makefile"
   ]
  },
  {
   "cell_type": "markdown",
   "metadata": {},
   "source": [
    "## August 17\n",
    "We worked on changing themes and finding the correct theme and the one that I like the most. I decide on the Hacker theme but faced some challenges.\n",
    "### Challenges\n",
    "- The navigation bar showed up as text in a vertical list rather than a horizontal list with some css.\n",
    "- some pages were having conflicting layouts, causing bad css and cut off content\n",
    "\n",
    "### Fixes/Solutions\n",
    "\n",
    "- Changing the default.html file. I started with the primary default.html file \n",
    "    - This fixed the content cut off problem but not the navigation one"
   ]
  },
  {
   "cell_type": "markdown",
   "metadata": {},
   "source": [
    "## August 18\n",
    "We worked on debugging and making the theme work. I also helped Edwin get his theme working and debugging that. Also did customization\n",
    "### Challenges\n",
    "- Yesterdays challenges persisted\n",
    "- CSS overriding\n",
    "\n",
    "### Fixes\n",
    "\n",
    "- Changed the \"class\" tag on the nav bar links with the style tags from the stylesheet the new default.html file has. \n",
    "    - Requires some extra work as needed to research on what class name to choose from the style sheet\n",
    "- Fixed CSS overriding by not applying custom css directly on tags rather providing them specific class names and using those."
   ]
  }
 ],
 "metadata": {
  "language_info": {
   "name": "python"
  },
  "orig_nbformat": 4
 },
 "nbformat": 4,
 "nbformat_minor": 2
}
