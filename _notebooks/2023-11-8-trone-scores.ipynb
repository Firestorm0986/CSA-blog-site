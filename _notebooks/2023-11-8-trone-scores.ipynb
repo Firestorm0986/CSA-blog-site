{
 "cells": [
  {
   "cell_type": "markdown",
   "metadata": {},
   "source": [
    "---\n",
    "# this is YAML front matter\n",
    "layout: post\n",
    "title: Tri1 Scores\n",
    "description: Containes the lesson scores and final quiz score\n",
    "courses: { csa: {week: 10} }\n",
    "type: hacks\n",
    "---"
   ]
  },
  {
   "cell_type": "markdown",
   "metadata": {},
   "source": [
    "## Lesson Scores\n",
    "\n",
    "- Unit 5 and 6 - 1.75\n",
    "- Unit 7 and 8 - 1.84\n",
    "- Unit 9 and 10 - 1.83"
   ]
  },
  {
   "cell_type": "markdown",
   "metadata": {},
   "source": [
    "![image](https://github.com/Firestorm0986/CSPrepository2/assets/108041389/c9dffdaf-4536-48ce-94d7-4054aaf079af)\n",
    "\n",
    "I got this one wrong becuase I did just math and forgot that this returns int and not double"
   ]
  },
  {
   "cell_type": "markdown",
   "metadata": {},
   "source": [
    "![image](https://github.com/Firestorm0986/CSPrepository2/assets/108041389/bbc4438f-8ff3-46ff-927f-c75f979e1790)\n",
    "\n",
    "Did not check if it was an infinite loop, did not think collegeboard would do that."
   ]
  }
 ],
 "metadata": {
  "language_info": {
   "name": "python"
  }
 },
 "nbformat": 4,
 "nbformat_minor": 2
}
