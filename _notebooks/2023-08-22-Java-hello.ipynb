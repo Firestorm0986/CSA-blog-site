{
 "cells": [
  {
   "cell_type": "markdown",
   "metadata": {},
   "source": [
    "---\n",
    "comments: true\n",
    "layout: post\n",
    "title: Java Hello\n",
    "description: A file that starts my journey on Java\n",
    "type: hacks\n",
    "courses: { csa: {week: 1} }\n",
    "---"
   ]
  },
  {
   "cell_type": "code",
   "execution_count": 3,
   "metadata": {},
   "outputs": [
    {
     "name": "stdout",
     "output_type": "stream",
     "text": [
      "Hello World!\n"
     ]
    }
   ],
   "source": [
    "// Define Static Method within a Class\n",
    "public class HelloStatic {\n",
    "    // Java standard runtime entry point\n",
    "    public static void main(String[] args) {    \n",
    "        System.out.println(\"Hello World!\");\n",
    "    }\n",
    "}\n",
    "// A method call allows us to execute code that is wrapped in Class\n",
    "HelloStatic.main(null);   // Class prefix allows reference of Static Method"
   ]
  },
  {
   "cell_type": "code",
   "execution_count": 2,
   "metadata": {},
   "outputs": [
    {
     "name": "stdout",
     "output_type": "stream",
     "text": [
      "Hello, World!\n"
     ]
    }
   ],
   "source": [
    "// Define Class with Constructor returning Object\n",
    "public class HelloObject {\n",
    "    private String hello;   // instance attribute or variable\n",
    "    public HelloObject() {  // constructor\n",
    "        hello = \"Hello, World!\";\n",
    "    }\n",
    "    public String getHello() {  // getter, returns value from inside the object\n",
    "        return this.hello;  // return String from object\n",
    "    }\n",
    "    public static void main(String[] args) {    \n",
    "        HelloObject ho = new HelloObject(); // Instance of Class (ho) is an Object via \"new HelloObject()\"\n",
    "        System.out.println(ho.getHello()); // Object allows reference to public methods and data\n",
    "    }\n",
    "}\n",
    "// IJava activation\n",
    "HelloObject.main(null);"
   ]
  },
  {
   "cell_type": "code",
   "execution_count": 3,
   "metadata": {},
   "outputs": [
    {
     "name": "stdout",
     "output_type": "stream",
     "text": [
      "Hello, World!\n",
      "Hello, Nighthawk Coding Society!\n"
     ]
    }
   ],
   "source": [
    "// Define Class\n",
    "public class HelloDynamic { // name the first letter of class as capitalized, note camel case\n",
    "    // instance variable have access modifier (private is most common), data type, and name\n",
    "    private String hello;\n",
    "    // constructor signature 1, public and zero arguments, constructors do not have return type\n",
    "    public HelloDynamic() {  // 0 argument constructor\n",
    "        this.setHello(\"Hello, World!\");  // using setter with static string\n",
    "    }\n",
    "    // constructor signature, public and one argument\n",
    "    public HelloDynamic(String hello) { // 1 argument constructor\n",
    "        this.setHello(hello);   // using setter with local variable passed into constructor\n",
    "    }\n",
    "    // setter/mutator, setter have void return type and a parameter\n",
    "    public void setHello(String hello) { // setter\n",
    "        this.hello = hello;     // instance variable on the left, local variable on the right\n",
    "    }\n",
    "    // getter/accessor, getter used to return private instance variable (encapsulated), return type is String\n",
    "    public String getHello() {  // getter\n",
    "        return this.hello;\n",
    "    }\n",
    "    // public static void main(String[] args) is signature for main/drivers/tester method\n",
    "    // a driver/tester method is singular or called a class method, it is never part of an object\n",
    "    public static void main(String[] args) {  \n",
    "        HelloDynamic hd1 = new HelloDynamic(); // no argument constructor\n",
    "        HelloDynamic hd2 = new HelloDynamic(\"Hello, Nighthawk Coding Society!\"); // one argument constructor\n",
    "        System.out.println(hd1.getHello()); // accessing getter\n",
    "        System.out.println(hd2.getHello()); \n",
    "    }\n",
    "}\n",
    "// IJava activation\n",
    "HelloDynamic.main(null);"
   ]
  },
  {
   "cell_type": "markdown",
   "metadata": {},
   "source": [
    "## HACKS"
   ]
  },
  {
   "cell_type": "markdown",
   "metadata": {},
   "source": [
    "### Anatomy of A class\n",
    "- Have to define the <mark> class </mark> before start code. \n",
    "    - Syntax for defineing class - public class (name of class)\n",
    "- java file should be name same as the class name (not in this case as it is a jupyter notebook)\n",
    "-  `void` Used at method declaration and definition to specify that the method does not return any type\n",
    "    - can use int or something else in place\n",
    "- declaration of the method `main` done through - public class (name of method/function) \n",
    "- The String[] declares the data type and that an array of string will be given with the array's name `args` - can be anything -."
   ]
  },
  {
   "cell_type": "code",
   "execution_count": 1,
   "metadata": {},
   "outputs": [
    {
     "name": "stdout",
     "output_type": "stream",
     "text": [
      "Hello World !\n"
     ]
    }
   ],
   "source": [
    "public class Helloworld { // Class definition\n",
    "    public static void main(String[] args){ // creation of an object\n",
    "        System.out.println(\"Hello World !\");\n",
    "    }\n",
    "}\n",
    "\n",
    "Helloworld.main(null) // calling the class"
   ]
  },
  {
   "cell_type": "code",
   "execution_count": 6,
   "metadata": {},
   "outputs": [
    {
     "name": "stdout",
     "output_type": "stream",
     "text": [
      "This is a Pythagorean Triple\n",
      "This is not a Pythagorean Triple\n"
     ]
    }
   ],
   "source": [
    "public class Pytho {\n",
    "    private int a;\n",
    "    private int b;\n",
    "    private int c;\n",
    "\n",
    "    public void pythoset( int a, int b, int c){ // Setter\n",
    "        this.a = a;\n",
    "        this.b = b;\n",
    "        this.c = c;\n",
    "    }\n",
    "\n",
    "    public Pytho(){\n",
    "        this.pythoset(3,4,5);\n",
    "    }\n",
    "\n",
    "    public Pytho(int a, int b, int c){\n",
    "        this.pythoset(a, b, c);\n",
    "    }\n",
    "\n",
    "    public String pythoget(){\n",
    "        int sqa = this.a * this.a;\n",
    "        int sqb = this.b * this.b;\n",
    "        int sqc = this.c * this.c;\n",
    "\n",
    "        int sumsq = sqa + sqb;\n",
    "        String correct = \"This is a Pythagorean Triple\";\n",
    "        String wrong = \"This is not a Pythagorean Triple\";\n",
    "        if(sumsq == sqc){\n",
    "            return correct;\n",
    "        }\n",
    "        else{\n",
    "            return wrong;\n",
    "        }\n",
    "    }\n",
    "\n",
    "    public static void main(String[] args){\n",
    "        Pytho tr1 = new Pytho();\n",
    "        Pytho tr2 = new Pytho(6,8,9);\n",
    "\n",
    "        System.out.println(tr1.pythoget());\n",
    "        System.out.println(tr2.pythoget());\n",
    "    }\n",
    "}\n",
    "\n",
    "Pytho.main(null)"
   ]
  }
 ],
 "metadata": {
  "kernelspec": {
   "display_name": "Java",
   "language": "java",
   "name": "java"
  },
  "language_info": {
   "codemirror_mode": "java",
   "file_extension": ".jshell",
   "mimetype": "text/x-java-source",
   "name": "java",
   "pygments_lexer": "java",
   "version": "11.0.20+8-post-Ubuntu-1ubuntu122.04"
  }
 },
 "nbformat": 4,
 "nbformat_minor": 2
}
