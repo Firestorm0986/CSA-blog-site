{
 "cells": [
  {
   "attachments": {},
   "cell_type": "markdown",
   "metadata": {},
   "source": [
    "---\n",
    "layout: post\n",
    "title: Unit 5 Lesson Part 1\n",
    "toc: true\n",
    "comments: true\n",
    "description: Lesson for APCSA Unit 5 Part 1\n",
    "courses: { csa: {week: 9} }\n",
    "type: tangibles\n",
    "---"
   ]
  },
  {
   "attachments": {},
   "cell_type": "markdown",
   "metadata": {},
   "source": [
    "# 5.1 Anatomy of a Class"
   ]
  },
  {
   "attachments": {},
   "cell_type": "markdown",
   "metadata": {},
   "source": [
    "## KEY LEARNING OBJECTIVES:\n",
    "\n",
    "1. Designate access and visibility constraints to classes, data, constructors, and methods.\n",
    "\n",
    "2. Designate private visibility of instance variables to encapsulate the attributes of an object."
   ]
  },
  {
   "attachments": {},
   "cell_type": "markdown",
   "metadata": {},
   "source": [
    "## What is a class?"
   ]
  },
  {
   "attachments": {},
   "cell_type": "markdown",
   "metadata": {},
   "source": [
    "A **class** is a template for creating objects in Java. "
   ]
  },
  {
   "attachments": {},
   "cell_type": "markdown",
   "metadata": {},
   "source": [
    "## Private vs Public Designation\n",
    "\n",
    "**Private**: A private access modifier means that the instance variables, constructors, and methods cannot be accessed outside of the class.\n",
    "\n",
    "**Public**: This allows access from classes outside the original class of declaration."
   ]
  },
  {
   "attachments": {},
   "cell_type": "markdown",
   "metadata": {},
   "source": [
    "## Data Encapsulation\n",
    "\n",
    "This is one of the key components of object oriented programming. \n",
    "\n",
    "It ensures data ``protection`` by controlling which parts of a class are accessible to other classes."
   ]
  },
  {
   "attachments": {},
   "cell_type": "markdown",
   "metadata": {},
   "source": [
    "In the following example, we look at encapsulation and demonstrate how to create a Student class with private instance variables for name and age, public methods for accessing and modifying these variables, and validation checks to ensure data integrity. "
   ]
  },
  {
   "cell_type": "code",
   "execution_count": 22,
   "metadata": {
    "vscode": {
     "languageId": "java"
    }
   },
   "outputs": [
    {
     "name": "stdout",
     "output_type": "stream",
     "text": [
      "Meet our star student:\n",
      "Name: Vishnu\n",
      "Age: 17\n"
     ]
    }
   ],
   "source": [
    "public class Student {\n",
    "    // 1. Private variables to store student's name and age\n",
    "    private String name; // Stores the student's name\n",
    "    private int age;     // Stores the student's age\n",
    "\n",
    "    // 2. Public Class: Student\n",
    "\n",
    "    // 3. Constructor Methods\n",
    "    // Constructor to create a Student object with a name and age\n",
    "    public Student(String name, int age) {\n",
    "        this.name = name;\n",
    "        this.age = age;\n",
    "    }\n",
    "\n",
    "    public static void main(String[] args) {\n",
    "        // Let's create a new Student!\n",
    "        Student student = new Student(\"Vishnu\", 17);\n",
    "\n",
    "        // Displaying the student's information\n",
    "        System.out.println(\"Meet our star student:\");\n",
    "        System.out.println(\"Name: \" + student.name); // Accessing the name directly\n",
    "        System.out.println(\"Age: \" + student.age);   // Accessing the age directly\n",
    "    }\n",
    "}\n",
    "\n",
    "Student.main(null);\n"
   ]
  },
  {
   "attachments": {},
   "cell_type": "markdown",
   "metadata": {},
   "source": [
    "# 5.2 Constructors"
   ]
  },
  {
   "attachments": {},
   "cell_type": "markdown",
   "metadata": {},
   "source": [
    "## KEY LEARNING OBJECTIVES"
   ]
  },
  {
   "attachments": {},
   "cell_type": "markdown",
   "metadata": {},
   "source": [
    "Define instance variables for the attributes to be initialized through the constructors of a class."
   ]
  },
  {
   "attachments": {},
   "cell_type": "markdown",
   "metadata": {},
   "source": [
    "Constructors are used to set the ``initial`` state of an object.\n"
   ]
  },
  {
   "attachments": {},
   "cell_type": "markdown",
   "metadata": {},
   "source": [
    "**Mutable Objects**: These are objects whose internal state can be changed after its creation. Lists are mutable objects, as are arrays.\n",
    "\n",
    "**Constructor Parameters**: These are values passed to a class's constructor when creating an instance. This initializes the new object's state.\n",
    "\n",
    "**Instance Variables**: These are object attributes that store the objects state. They are declared within the class and can be accessed by the object's methods.\n",
    "\n",
    "**Alias**: Two variables point to the same object."
   ]
  },
  {
   "attachments": {},
   "cell_type": "markdown",
   "metadata": {},
   "source": [
    "A good example of a Java alias:"
   ]
  },
  {
   "cell_type": "code",
   "execution_count": 17,
   "metadata": {
    "vscode": {
     "languageId": "java"
    }
   },
   "outputs": [
    {
     "name": "stdout",
     "output_type": "stream",
     "text": [
      "Value at index 0 through alias2: 100\n"
     ]
    }
   ],
   "source": [
    "public class AliasExample {\n",
    "    public static void main(String[] args) {\n",
    "        // Create an array and two references (aliases) to it\n",
    "        int[] array = new int[]{1, 2, 3};\n",
    "        int[] alias1 = array;\n",
    "        int[] alias2 = array;\n",
    "\n",
    "        // Modify the array through one of the aliases\n",
    "        alias1[0] = 100;\n",
    "\n",
    "        // Access the modified array through the other alias\n",
    "        System.out.println(\"Value at index 0 through alias2: \" + alias2[0]);\n",
    "    }\n",
    "}\n",
    "\n",
    "AliasExample.main(null);"
   ]
  },
  {
   "attachments": {},
   "cell_type": "markdown",
   "metadata": {},
   "source": [
    "In the below example, we explore encapsulation and demonstrate how to create a Person class to represent individuals with private attributes for name, age, and hobbies. The code showcases how to initialize and manipulate a Person object's state, including adding hobbies to the person's list, while ensuring the original data remains unchanged."
   ]
  },
  {
   "cell_type": "code",
   "execution_count": 25,
   "metadata": {
    "vscode": {
     "languageId": "java"
    }
   },
   "outputs": [
    {
     "name": "stdout",
     "output_type": "stream",
     "text": [
      "Person 1:\n",
      "Name: Anna\n",
      "Age: 17\n",
      "Person 2:\n",
      "Name: Rohin\n",
      "Age: 13\n"
     ]
    }
   ],
   "source": [
    "public class Person {\n",
    "    private String name;\n",
    "    private int age;\n",
    "\n",
    "    // Constructor to initialize a Person with a name and age\n",
    "    public Person(String name, int age) {\n",
    "        this.name = name;  // Initialize the 'name' field with the provided name\n",
    "        this.age = age;    // Initialize the 'age' field with the provided age\n",
    "    }\n",
    "\n",
    "    // Method to display the person's information\n",
    "    public void displayInfo() {\n",
    "        System.out.println(\"Name: \" + name);\n",
    "        System.out.println(\"Age: \" + age);\n",
    "    }\n",
    "}\n",
    "\n",
    "public class PersonConstructorDemo {\n",
    "    public static void main(String[] args) {\n",
    "        // Create two Person objects using the constructor\n",
    "        Person person1 = new Person(\"Anna\", 17);\n",
    "        Person person2 = new Person(\"Rohin\", 13);\n",
    "\n",
    "        // Display information about the created persons\n",
    "        System.out.println(\"Person 1:\");\n",
    "        person1.displayInfo();\n",
    "        \n",
    "        System.out.println(\"Person 2:\");\n",
    "        person2.displayInfo();\n",
    "    }\n",
    "}\n",
    "\n",
    "PersonConstructorDemo.main(null);\n"
   ]
  },
  {
   "attachments": {},
   "cell_type": "markdown",
   "metadata": {},
   "source": [
    "In the Person class, the hobbies list is encapsulated to prevent unintended modifications. What is the importance of encapsulation and how does it improve the design of the class? \n",
    "There is no hobbies list buddy <mark> IDK </mark>\n"
   ]
  },
  {
   "attachments": {},
   "cell_type": "markdown",
   "metadata": {},
   "source": [
    "# 5.3 Documentation with Comments"
   ]
  },
  {
   "attachments": {},
   "cell_type": "markdown",
   "metadata": {},
   "source": [
    "## KEY LEARNING OBJECTIVE"
   ]
  },
  {
   "attachments": {},
   "cell_type": "markdown",
   "metadata": {},
   "source": [
    "Describe the functionality and use of program code through comments."
   ]
  },
  {
   "attachments": {},
   "cell_type": "markdown",
   "metadata": {},
   "source": [
    "**Precondition**: This is a condition that has to be met prior to an execution of a certain part of the code for the method to work.\n",
    "\n",
    "**Postcondition**: This is a condition that has to be met after the execution of a certain part of the code. "
   ]
  },
  {
   "cell_type": "code",
   "execution_count": 11,
   "metadata": {
    "vscode": {
     "languageId": "java"
    }
   },
   "outputs": [
    {
     "name": "stdout",
     "output_type": "stream",
     "text": [
      "Constructor called with value: 42\n",
      "Value: 42\n"
     ]
    }
   ],
   "source": [
    "// This class represents a simple encapsulated integer with associated methods.\n",
    "\n",
    "public class Comments {\n",
    "    private int value; // An encapsulated integer with variable name \"value\"\n",
    "\n",
    "    // Constructor method that sets the initial value of the encapsulated variable.\n",
    "    // Parameter:\n",
    "    //   value - The initial value to set.\n",
    "    public Comments(int value) { // a setter method that initializes the \"value\" variable to some value\n",
    "        this.value = value; // Set the encapsulated variable to the provided value.\n",
    "        System.out.println(\"Constructor called with value: \" + value); // Print a message indicating the constructor was called with a specific value.\n",
    "    }\n",
    "\n",
    "    // Getter method to retrieve the value of the encapsulated variable.\n",
    "    // Returns:\n",
    "    //   The current value of the encapsulated variable.\n",
    "    public int getValue() { // a method to access the encapsulated \"value\" variable\n",
    "        return value; // Return the current value of the encapsulated variable.\n",
    "    }\n",
    "\n",
    "    // Main method used for testing object creation and value retrieval.\n",
    "    public static void main(String[] args) { // tester method for object creation and printing a value\n",
    "        Comments myObject = new Comments(42);  // creating an instance of the Comments class\n",
    "        int result = myObject.getValue();    // Retrieve the value from the created instance.\n",
    "        System.out.println(\"Value: \" + result); // Print the retrieved value.\n",
    "    }\n",
    "}\n",
    "\n",
    "// Call the main method to execute the testing code.\n",
    "Comments.main(null);\n"
   ]
  },
  {
   "attachments": {},
   "cell_type": "markdown",
   "metadata": {},
   "source": [
    "**ADD DESCRIPTIVE COMMENTS TO THE ABOVE CODE. Provide descriptions of functionality, identify methods used, and initialized variables if any.**"
   ]
  },
  {
   "attachments": {},
   "cell_type": "markdown",
   "metadata": {},
   "source": [
    "# Hacks"
   ]
  },
  {
   "attachments": {},
   "cell_type": "markdown",
   "metadata": {},
   "source": [
    "**POPCORN HACKS: 0.2**"
   ]
  },
  {
   "attachments": {},
   "cell_type": "markdown",
   "metadata": {},
   "source": [
    "**Create a simple To-Do List that utilizes the following (0.8):**\n",
    "\n",
    "1. Private and Public Declaration\n",
    "\n",
    "2. Constructor\n",
    "\n",
    "3. Mutable Array containing To-Do List Items\n",
    "\n",
    "Make sure to add descriptive comments that are describing your code!"
   ]
  },
  {
   "cell_type": "code",
   "execution_count": 10,
   "metadata": {
    "vscode": {
     "languageId": "java"
    }
   },
   "outputs": [
    {
     "name": "stdout",
     "output_type": "stream",
     "text": [
      "1: to delete task, 0: to exit, 2: to continue\n"
     ]
    },
    {
     "name": "stdout",
     "output_type": "stream",
     "text": [
      "Add a task: \n",
      "What's next? (1: delete task, 0: exit, 2: continue)\n",
      "Add a task: \n",
      "What's next? (1: delete task, 0: exit, 2: continue)\n",
      "What's next? (1: delete task, 0: exit, 2: continue)\n",
      "To-Do List:\n",
      "eat food\n",
      "code code code \n"
     ]
    }
   ],
   "source": [
    "import java.util.ArrayList;\n",
    "import java.util.Scanner;\n",
    "\n",
    "public class ToDoList {\n",
    "    private ArrayList<String> toDoList; // ArrayList to store tasks.\n",
    "\n",
    "    public ToDoList(){\n",
    "        this.toDoList = new ArrayList<String>(); // Initialize the toDoList as a new ArrayList of Strings.\n",
    "    }\n",
    "\n",
    "    public void addTask(String task){\n",
    "        this.toDoList.add(task); // Add a task to the toDoList.\n",
    "    }\n",
    "\n",
    "    public void deleteTask(int index){\n",
    "        this.toDoList.remove(index); // Remove a task from the toDoList based on its index.\n",
    "    }\n",
    "\n",
    "    public ArrayList<String> getToDoList(){\n",
    "        return this.toDoList; // Retrieve the entire toDoList.\n",
    "    }\n",
    "\n",
    "    public static void main(String[] args){\n",
    "        ToDoList toDoList = new ToDoList(); // Create a new instance of ToDoList.\n",
    "        ArrayList<String> list = toDoList.getToDoList(); // Retrieve the toDoList.\n",
    "\n",
    "        Scanner scanner = new Scanner(System.in);\n",
    "        int choice = 2;\n",
    "        System.out.println(\"1: to delete task, 0: to exit, 2: to continue\");\n",
    "        while (choice != 0){\n",
    "            choice = scanner.nextInt(); // Get the user's choice.\n",
    "            scanner.nextLine(); // Consume the newline character.\n",
    "            if (choice == 2){\n",
    "                System.out.println(\"Add a task: \");\n",
    "                String task = scanner.nextLine(); // Get the task from the user.\n",
    "                toDoList.addTask(task); // Add the task to the toDoList.\n",
    "            }\n",
    "            if( choice == 1){\n",
    "                System.out.println(\"What do you want to remove. Give the index \");\n",
    "                int index = 0;\n",
    "                for (String item : list){\n",
    "                    System.out.println(index + item); // Display the tasks with their indices.\n",
    "                    index ++;\n",
    "                }\n",
    "\n",
    "                int chosenIndex = scanner.nextInt(); // Get the index of the task to be deleted.\n",
    "                toDoList.deleteTask(chosenIndex); // Delete the selected task.\n",
    "            }\n",
    "            System.out.println(\"What's next? (1: delete task, 0: exit, 2: continue)\");\n",
    "        }\n",
    "\n",
    "        System.out.println(\"To-Do List:\");\n",
    "        for (String task : toDoList.getToDoList()) {\n",
    "            System.out.println(task); // Print out the remaining tasks in the toDoList.\n",
    "        }\n",
    "        scanner.close(); // Close the scanner.\n",
    "\n",
    "    }\n",
    "}\n",
    "\n",
    "ToDoList.main(null); // Call the main method to execute the to-do list program.\n"
   ]
  },
  {
   "cell_type": "markdown",
   "metadata": {},
   "source": [
    "## Answer\n",
    "Access Modifiers:\n",
    "\n",
    "private access modifier is used to restrict the visibility of the toDoList variable to only within the ToDoList class.\n",
    "public access modifier is used for the class itself and the main method, allowing them to be accessible from outside the class.\n",
    "Constructor:\n",
    "\n",
    "public ToDoList() is the constructor of the ToDoList class. It initializes the toDoList variable by creating a new instance of ArrayList<String>.\n",
    "Mutable Array Containing To-Do List Items:\n",
    "\n",
    "private ArrayList<String> toDoList; declares an instance variable toDoList of type ArrayList<String>. This ArrayList is mutable, meaning you can add and remove elements from it after it is created. It's used to store the to-do list items."
   ]
  }
 ],
 "metadata": {
  "kernelspec": {
   "display_name": "Java",
   "language": "java",
   "name": "java"
  },
  "language_info": {
   "codemirror_mode": "java",
   "file_extension": ".jshell",
   "mimetype": "text/x-java-source",
   "name": "Java",
   "pygments_lexer": "java",
   "version": "20.0.2+9"
  },
  "orig_nbformat": 4
 },
 "nbformat": 4,
 "nbformat_minor": 2
}
