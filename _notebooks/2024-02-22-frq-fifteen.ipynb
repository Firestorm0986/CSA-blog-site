{
 "cells": [
  {
   "cell_type": "markdown",
   "metadata": {},
   "source": [
    "---\n",
    "comments: true\n",
    "layout: post\n",
    "title: 2015 FRQ Question 1\n",
    "description: This is the answer to the 2015 FRQ Question 1\n",
    "type: hacks\n",
    "toc: true\n",
    "courses: { csa: {week: 20} }\n",
    "---"
   ]
  },
  {
   "cell_type": "markdown",
   "metadata": {},
   "source": [
    "## Question 1 - Arrays and 2D Arrays\n",
    "This question involves reasoning about one-dimensional and two-dimensional arrays of integers. You will write\n",
    "three static methods, all of which are in a single enclosing class, named DiverseArray (not shown). The\n",
    "first method returns the sum of the values of a one-dimensional array; the second method returns an array that\n",
    "represents the sums of the rows of a two-dimensional array; and the third method analyzes row sums.\n",
    "- Write a static method arraySum that calculates and returns the sum of the entries in a specified\n",
    "one-dimensional array. The following example shows an array arr1 and the value returned by a call to\n",
    "arraySum. \n",
    "- Write a static method rowSums that calculates the sums of each of the rows in a given twodimensional array and returns these sums in a one-dimensional array. The method has one parameter, a twodimensional array arr2D of int values. The array is in row-major order: arr2D[r][c] is the entry\n",
    "at row r and column c. The method returns a one-dimensional array with one entry for each row of\n",
    "arr2D such that each entry is the sum of the corresponding row in arr2D. As a reminder, each row of a\n",
    "two-dimensional array is a one-dimensional array.\n",
    "For example, if mat1 is the array represented by the following table, the call rowSums(mat1) returns\n",
    "the array {16, 32, 28, 20}. "
   ]
  },
  {
   "cell_type": "code",
   "execution_count": 15,
   "metadata": {
    "vscode": {
     "languageId": "java"
    }
   },
   "outputs": [
    {
     "name": "stdout",
     "output_type": "stream",
     "text": [
      "6\n",
      "15\n",
      "24\n",
      "Array 1 is diverse: true\n",
      "10\n",
      "10\n",
      "24\n",
      "check\n",
      "Array 2 is diverse: false\n"
     ]
    }
   ],
   "source": [
    "public class DiverseArray {\n",
    "    // part a\n",
    "    public static int arraySum(int[] arr){\n",
    "        int sum = 0;\n",
    "        for (int a : arr ){\n",
    "            sum += a;\n",
    "        }\n",
    "\n",
    "        System.out.println(sum);\n",
    "        return sum;\n",
    "    }\n",
    "\n",
    "    // part b\n",
    "    public static int[] rowSums(int[][] arr2D) {\n",
    "        int[] rowSum = new int[arr2D.length];\n",
    "        \n",
    "        for (int i = 0; i < arr2D.length; i++){\n",
    "            // Directly use arraySum to calculate the sum of each row\n",
    "            rowSum[i] = arraySum(arr2D[i]);\n",
    "        }\n",
    "        return rowSum;\n",
    "    }\n",
    "\n",
    "    // part c\n",
    "    public static boolean isDiverse(int[][] arr2D) {\n",
    "        int[] sums = rowSums(arr2D);\n",
    "        for (int i = 0; i < sums.length; i++){\n",
    "            for (int j = i + 1; j < sums.length; j++){\n",
    "                if (sums[i] == sums[j]){\n",
    "                    System.out.println(\"check\");\n",
    "                    return false;\n",
    "                }\n",
    "            }\n",
    "        }\n",
    "\n",
    "        return true;\n",
    "    }\n",
    "\n",
    "    // Testing\n",
    "    public static void main(String[] args) {\n",
    "        // Test case 1: A diverse array\n",
    "        int[][] arr1 = {\n",
    "            {1, 2, 3},\n",
    "            {4, 5, 6},\n",
    "            {7, 8, 9}\n",
    "        };\n",
    "        \n",
    "        // Test case 2: A non-diverse array (rows 1 and 2 have the same sum)\n",
    "        int[][] arr2 = {\n",
    "            {5, 5, 0},\n",
    "            {4, 5, 1},\n",
    "            {7, 8, 9}\n",
    "        };\n",
    "\n",
    "        System.out.println(\"Array 1 is diverse: \" + isDiverse(arr1)); // Expected: true\n",
    "        System.out.println(\"Array 2 is diverse: \" + isDiverse(arr2)); // Expected: false\n",
    "    }\n",
    "}\n",
    "\n",
    "DiverseArray.main(null);"
   ]
  },
  {
   "cell_type": "markdown",
   "metadata": {},
   "source": [
    "## Project Connection\n",
    "\n",
    "Question 1 is about traversing and manipulating arrays and 2D arrays. Part A of the question asks to manipulate a one dimensional array or iterate through it to add up all the values in the array. A similar action in seen in the initialization of data in `person` database in the `person.java` file, where an array of type  `person` object is iterated over and added to the database as seen in the image below. \n",
    "![image](https://github.com/Firestorm0986/CSA-blog-site/assets/108041389/8199d5c9-7fe8-4e43-85b0-9e352d93a8c4)\n",
    "\n",
    "Question 1 part B and C have aspects of manipulating 2D arrays and 1D arrays. A similarity is seen in the way 2D arrays were used in this question as a look up table of sorts. The question made us use the rows as `keys` and the columns in those specific rows as `values`. A similarity is seen in the Map data structure that I used in the project to associate keys and vlaues as seen in the image below. Though 2D arrays and Map are two diffrent data structure they are similar in their theme of the way they are being used. For a 2D array, you might use the first dimension as a key and the second dimension as a value (though this is somewhat unconventional). Maps are naturally suited for this purpose, with clear key-value relationships and that is why I use Maps more as they are flexibility with dynamic sizing unlike 2D arrays which are more fixed in size. This is important in the working of the database as with the stocks data and also person the size can be very large. \n",
    "I used Map in the `personAPIController.java` file for some of the api endpoint working as seen below - \n",
    "![image](https://github.com/Firestorm0986/CSA-blog-site/assets/108041389/84bf1161-c7c2-48eb-8fad-3bab82935344)\n"
   ]
  }
 ],
 "metadata": {
  "kernelspec": {
   "display_name": "Java",
   "language": "java",
   "name": "java"
  },
  "language_info": {
   "codemirror_mode": "java",
   "file_extension": ".jshell",
   "mimetype": "text/x-java-source",
   "name": "Java",
   "pygments_lexer": "java",
   "version": "20.0.2+9"
  }
 },
 "nbformat": 4,
 "nbformat_minor": 2
}
