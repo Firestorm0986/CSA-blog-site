{
 "cells": [
  {
   "cell_type": "markdown",
   "metadata": {},
   "source": [
    "---\n",
    "comments: true\n",
    "layout: post\n",
    "title: Unit 2 Hacks\n",
    "description: Hacks for Unit 2 lesson\n",
    "type: tangibles\n",
    "courses: { csa: {week: 7} }\n",
    "---"
   ]
  },
  {
   "cell_type": "markdown",
   "metadata": {},
   "source": [
    "## Hack 1"
   ]
  },
  {
   "cell_type": "code",
   "execution_count": 4,
   "metadata": {
    "vscode": {
     "languageId": "java"
    }
   },
   "outputs": [
    {
     "name": "stdout",
     "output_type": "stream",
     "text": [
      "Element at index 1: 20\n"
     ]
    }
   ],
   "source": [
    "import java.util.ArrayList;\n",
    "\n",
    "public class ArrayListExample {\n",
    "    private ArrayList<Integer> integerList = new ArrayList<>();\n",
    "\n",
    "    // Void method to add an integer to the ArrayList\n",
    "    public void addToArrayList(int num) {\n",
    "        integerList.add(num);\n",
    "    }\n",
    "\n",
    "    // Non-void method to get an element from a specific index\n",
    "    public int getElementAtIndex(int index) {\n",
    "        if (index >= 0 && index < integerList.size()) {\n",
    "            return integerList.get(index);\n",
    "        } else {\n",
    "            System.out.println(\"Index out of bounds.\");\n",
    "            return -1; // You can return a specific value to indicate an error.\n",
    "        }\n",
    "    }\n",
    "\n",
    "    public static void main(String[] args) {\n",
    "        ArrayListExample example = new ArrayListExample();\n",
    "\n",
    "        // Adding elements to the ArrayList\n",
    "        example.addToArrayList(10);\n",
    "        example.addToArrayList(20);\n",
    "        example.addToArrayList(30);\n",
    "\n",
    "        // Getting an element from a specific index\n",
    "        int element = example.getElementAtIndex(1);\n",
    "        if (element != -1) {\n",
    "            System.out.println(\"Element at index 1: \" + element);\n",
    "        }\n",
    "    }\n",
    "}\n",
    "ArrayListExample.main(null)"
   ]
  },
  {
   "cell_type": "markdown",
   "metadata": {},
   "source": [
    "## Hack 2"
   ]
  },
  {
   "cell_type": "code",
   "execution_count": null,
   "metadata": {
    "vscode": {
     "languageId": "java"
    }
   },
   "outputs": [],
   "source": [
    "import java.util.Random;\n",
    "import java.util.Scanner;\n",
    "\n",
    "public class GuessingGame {\n",
    "    private static Random random = new Random();\n",
    "    private static Scanner scanner = new Scanner(System.in);\n",
    "\n",
    "    private int base;\n",
    "    private int exponent;\n",
    "    private int result;\n",
    "\n",
    "    public GuessingGame() {\n",
    "        base = random.nextInt(5) + 2; // Random base between 2 and 6\n",
    "        exponent = random.nextInt(3) + 2; // Random exponent between 2 and 4\n",
    "        result = (int) Math.pow(base, exponent);\n",
    "    }\n",
    "\n",
    "    public static void main(String[] args) {\n",
    "        GuessingGame game = new GuessingGame();\n",
    "\n",
    "        System.out.println(\"Welcome to the Guessing Game!\");\n",
    "        System.out.println(\"I have taken a random number to a random exponent.\");\n",
    "\n",
    "        game.playGame();\n",
    "    }\n",
    "\n",
    "    public void playGame() {\n",
    "        System.out.println(\"Your task is to guess the base and the exponent.\");\n",
    "\n",
    "        int guessedBase;\n",
    "        int guessedExponent;\n",
    "\n",
    "        do {\n",
    "            System.out.print(\"Enter your guess for the base: \");\n",
    "            guessedBase = scanner.nextInt();\n",
    "\n",
    "            System.out.print(\"Enter your guess for the exponent: \");\n",
    "            guessedExponent = scanner.nextInt();\n",
    "\n",
    "            if (guessedBase == base && guessedExponent == exponent) {\n",
    "                System.out.println(\"Congratulations! You guessed it!\");\n",
    "            } else if(guessedBase == 100 || guessedExponent == 100) {\n",
    "                break\n",
    "            }\n",
    "            else {\n",
    "                System.out.println(\"Sorry, that's not correct. Try again.\");\n",
    "                giveHint(guessedBase, guessedExponent);\n",
    "            }\n",
    "\n",
    "        } while (guessedBase != base || guessedExponent != exponent);\n",
    "    }\n",
    "\n",
    "    private void giveHint(int guessedBase, int guessedExponent) {\n",
    "        if (guessedBase != base) {\n",
    "            System.out.println(\"Hint: The base is not \" + guessedBase + \".\");\n",
    "        }\n",
    "\n",
    "        if (guessedExponent != exponent) {\n",
    "            System.out.println(\"Hint: The exponent is not \" + guessedExponent + \".\");\n",
    "        }\n",
    "    }\n",
    "}\n",
    "\n",
    "GuessingGame.main(null)"
   ]
  },
  {
   "cell_type": "markdown",
   "metadata": {},
   "source": [
    "## Hack 3"
   ]
  },
  {
   "cell_type": "code",
   "execution_count": 1,
   "metadata": {
    "vscode": {
     "languageId": "java"
    }
   },
   "outputs": [
    {
     "name": "stdout",
     "output_type": "stream",
     "text": [
      "Person 1:\n",
      "Name: John Doe\n",
      "Age: 25\n",
      "Is Student: false\n",
      "Height: 175.5\n",
      "\n",
      "Person 3:\n",
      "Name: James Brown\n",
      "Age: 30\n",
      "Is Student: false\n",
      "Height: 180.0\n"
     ]
    }
   ],
   "source": [
    "public class Person {\n",
    "    private int age;\n",
    "    private boolean isStudent;\n",
    "    private String name;\n",
    "    private double height;\n",
    "\n",
    "    public Person(int age, boolean isStudent, String name, double height) {\n",
    "        this.age = age;\n",
    "        this.isStudent = isStudent;\n",
    "        this.name = name;\n",
    "        this.height = height;\n",
    "    }\n",
    "\n",
    "    public int getAge() {\n",
    "        return age;\n",
    "    }\n",
    "\n",
    "    public boolean isStudent() {\n",
    "        return isStudent;\n",
    "    }\n",
    "\n",
    "    public String getName() {\n",
    "        return name;\n",
    "    }\n",
    "\n",
    "    public double getHeight() {\n",
    "        return height;\n",
    "    }\n",
    "\n",
    "    public static void main(String[] args) {\n",
    "        // Creating instances of Person with different values\n",
    "        Person person1 = new Person(25, false, \"John Doe\", 175.5);\n",
    "        Person person2 = new Person(20, true, \"Jane Smith\", 160.2);\n",
    "        Person person3 = new Person(30, false, \"James Brown\", 180.0);\n",
    "        Person person4 = new Person(18, true, \"Emma Johnson\", 165.8);\n",
    "        Person person5 = new Person(22, true, \"Michael Jackson\", 190.3);\n",
    "\n",
    "        // Accessing information\n",
    "        System.out.println(\"Person 1:\");\n",
    "        System.out.println(\"Name: \" + person1.getName());\n",
    "        System.out.println(\"Age: \" + person1.getAge());\n",
    "        System.out.println(\"Is Student: \" + person1.isStudent());\n",
    "        System.out.println(\"Height: \" + person1.getHeight());\n",
    "\n",
    "        System.out.println(\"\\nPerson 3:\");\n",
    "        System.out.println(\"Name: \" + person3.getName());\n",
    "        System.out.println(\"Age: \" + person3.getAge());\n",
    "        System.out.println(\"Is Student: \" + person3.isStudent());\n",
    "        System.out.println(\"Height: \" + person3.getHeight());\n",
    "    }\n",
    "}\n",
    "\n",
    "Person.main(null)"
   ]
  },
  {
   "cell_type": "markdown",
   "metadata": {},
   "source": [
    "## Hack 4"
   ]
  },
  {
   "cell_type": "code",
   "execution_count": 3,
   "metadata": {
    "vscode": {
     "languageId": "java"
    }
   },
   "outputs": [
    {
     "name": "stdout",
     "output_type": "stream",
     "text": [
      "First Name: John\n",
      "Last Name: Doe\n"
     ]
    }
   ],
   "source": [
    "public class Person {\n",
    "    private String fullName;\n",
    "\n",
    "    public Person(String fullName) {\n",
    "        this.fullName = fullName;\n",
    "    }\n",
    "\n",
    "    public String getFirstName() {\n",
    "        // Assuming the first name is the part of the full name before the space\n",
    "        for (int i = 0; i < fullName.length(); i++) {\n",
    "            if (fullName.charAt(i) == ' ') {\n",
    "                return fullName.substring(0, i);\n",
    "            }\n",
    "        }\n",
    "        return fullName; // If no space is found, return the full name\n",
    "    }\n",
    "\n",
    "    public String getLastName() {\n",
    "        // Assuming the last name is the part of the full name after the space\n",
    "        for (int i = fullName.length() - 1; i >= 0; i--) {\n",
    "            if (fullName.charAt(i) == ' ') {\n",
    "                return fullName.substring(i + 1);\n",
    "            }\n",
    "        }\n",
    "        return fullName; // If no space is found, return the full name\n",
    "    }\n",
    "\n",
    "    public static void main(String[] args) {\n",
    "        Person person = new Person(\"John Doe\");\n",
    "\n",
    "        String firstName = person.getFirstName();\n",
    "        String lastName = person.getLastName();\n",
    "\n",
    "        System.out.println(\"First Name: \" + firstName);\n",
    "        System.out.println(\"Last Name: \" + lastName);\n",
    "    }\n",
    "}\n",
    "\n",
    "Person.main(null)"
   ]
  }
 ],
 "metadata": {
  "kernelspec": {
   "display_name": "Java",
   "language": "java",
   "name": "java"
  },
  "language_info": {
   "codemirror_mode": "java",
   "file_extension": ".jshell",
   "mimetype": "text/x-java-source",
   "name": "Java",
   "pygments_lexer": "java",
   "version": "20.0.2+9"
  },
  "orig_nbformat": 4
 },
 "nbformat": 4,
 "nbformat_minor": 2
}
