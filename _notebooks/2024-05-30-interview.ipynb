{
 "cells": [
  {
   "cell_type": "markdown",
   "metadata": {},
   "source": [
    "---\n",
    "toc: true\n",
    "comments: false\n",
    "layout: post\n",
    "title: Final Interview\n",
    "description: This is a blog for the final interview\n",
    "type: hacks\n",
    "courses: { csa: {week: 30} }\n",
    "---"
   ]
  },
  {
   "cell_type": "markdown",
   "metadata": {
    "vscode": {
     "languageId": "plaintext"
    }
   },
   "source": [
    "## Overview\n",
    "My passion for coding and education drives my interest in this role. I am particularly excited about the opportunity to develop content and systems that enhance the Computer Science Pathway in the Poway Unified School District.\n",
    "\n",
    "## Overview of Relevant Projects\n",
    "\n",
    "**Student Tracking System:** Stocks project required a similar student tracking system. We needed to create classrooms to help each student to be able to join various games. Moreover one major aspect of creating the database is going to be a login and sign up system. Creating this system will require extensive research and work in [JWT and Backend](https://github.com/Firestorm0986/CSA-blog-site/issues/19). Moreover, one problem that the class might encounter is scalability, data safety, and data backup. The solution to this challenge will require the use of database services such as RDS and migrating away from SQlite. I am one of the few students in all of the CS classes that already have the [skills and research](https://github.com/Firestorm0986/CSA-blog-site/issues/18) to be able to tackle this challenge. Additionally, I am confident no one has done as much work on RDS in CSA, CSP, and CSSE as I have over the years, making me the ideal candidate for this job. \n",
    "[Section setup](https://github.com/CSA-AI/CSA_AI_Backend/issues/18)\n",
    "![image](https://github.com/Firestorm0986/CSA-blog-site/assets/108041389/f1e17d07-6e73-483b-8f8b-cf941900c743)\n",
    "\n",
    "**Educational Content Development:** Created interactive coding tutorials and resources for high school students. Moreover, every lesson I have created in CSA and CSP prove that I have the ability to create engaging, informational, and effective lesson plans and content. Examples of my [lessons](https://firestorm0986.github.io/CSA-blog-site//2023/10/08/booleans-lesson_IPYNB_2_.html), like the one on boolean where I took to the white board in order to explain de Morgan's law and how to solve complex boolean expressions, capturing attention of students and forcing them to ask questions and learn effectively. \n",
    "\n",
    "**ML in Education:** I recently worked on a project where we used past 10 years of stock data to predict the future stock trends. We created our very own neural network and use an LSTM model with 3 parameters, open, close, and volume, to predict the future. Implementing a similar machine learning algorithms to analyze student data and provide tailored recommendations.\n",
    "\n",
    "\n",
    "## Teamwork and Collaboration\n",
    "I have extensive experience working in teams using Agile methodology and collaboration tools like Git and slack. I value clear communication and teamwork to achieve common goals. Even at my internship we use slack to communicate plans and work between people. \n",
    "\n",
    "![image](https://github.com/Firestorm0986/CSA-blog-site/assets/108041389/11ff275e-30ee-4cb6-b0f8-fee334ef71e7)\n",
    "\n"
   ]
  }
 ],
 "metadata": {
  "language_info": {
   "name": "python"
  }
 },
 "nbformat": 4,
 "nbformat_minor": 2
}
