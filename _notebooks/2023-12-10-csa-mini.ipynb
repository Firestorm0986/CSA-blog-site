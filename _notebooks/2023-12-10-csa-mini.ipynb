{
 "cells": [
  {
   "cell_type": "markdown",
   "metadata": {},
   "source": [
    "---\n",
    "layout: post\n",
    "title: What I did in Mini project\n",
    "description: things that I did in the project\n",
    "toc: true\n",
    "courses: { csa: {week: 17} }\n",
    "type: hacks\n",
    "---"
   ]
  },
  {
   "cell_type": "markdown",
   "metadata": {},
   "source": [
    "## Class creation and inheritance\n",
    "- I implemented a many to one relationship between my api classes to connect the two api's in order to perform sorts on them\n",
    "- Implemented inheritace in the Jpa repository for the api endpoints\n",
    "\n",
    "## Sorting and Inheritance (Selection sort)\n",
    "- Implemented bubble sort in the backend to sort the months of the stocks data by highest to lowest or vice versa\n",
    "    - Created a parent class with overall blueproint of operations and basic functions\n",
    "    - Created selection sort child class for Descending sorting extending the montlysorter\n",
    "        - over-rides the selection function in parent class\n",
    "        - using nested for loops created the selection sort\n",
    "        - Also used stop watch and compare functions from parent class using `super` syntax and found the number of comparisions time taken and more"
   ]
  },
  {
   "cell_type": "markdown",
   "metadata": {},
   "source": [
    "## Show not Tell\n",
    "\n"
   ]
  },
  {
   "cell_type": "markdown",
   "metadata": {},
   "source": [
    "![image](https://github.com/Firestorm0986/CSA-blog-site/assets/108041389/dfd586e8-661d-4388-8912-6ba2ebd83fbb)\n",
    "![image](https://github.com/Firestorm0986/CSA-blog-site/assets/108041389/745cb264-e139-4ecd-9e9d-a4c3f9286e3a)"
   ]
  },
  {
   "cell_type": "code",
   "execution_count": null,
   "metadata": {},
   "outputs": [],
   "source": [
    "package com.nighthawk.spring_portfolio.mvc.stocks.sorting;\n",
    "\n",
    "import java.util.List;\n",
    "\n",
    "import org.springframework.util.StopWatch;\n",
    "\n",
    "import com.nighthawk.spring_portfolio.mvc.stocks.MonthlyStocks;\n",
    "\n",
    "public class MonthlyStocksSorter {\n",
    "\n",
    "    StopWatch sw = new StopWatch();\n",
    "    int comparisons;\n",
    "\n",
    "    public SortedData bubbleSort(List<MonthlyStocks> monthlyStocksList) {\n",
    "        return null;\n",
    "    }\n",
    "\n",
    "    public SortedData selectionSort(List<MonthlyStocks> monthlyStocksList) {\n",
    "        return null;\n",
    "    }\n",
    "\n",
    "    public int compareStrings(String str1, String str2) {\n",
    "        this.comparisons++;\n",
    "        try {\n",
    "            double value1 = Double.parseDouble(str1);\n",
    "            double value2 = Double.parseDouble(str2);\n",
    "            return Double.compare(value1, value2);\n",
    "        } catch (NumberFormatException e) {\n",
    "            // Handle parsing errors or decide how to compare non-numeric strings\n",
    "            return str1.compareTo(str2);\n",
    "        }\n",
    "    }\n",
    "}"
   ]
  },
  {
   "cell_type": "code",
   "execution_count": null,
   "metadata": {},
   "outputs": [],
   "source": [
    "package com.nighthawk.spring_portfolio.mvc.stocks.sorting;\n",
    "\n",
    "import java.util.List;\n",
    "import com.nighthawk.spring_portfolio.mvc.stocks.MonthlyStocks;\n",
    "\n",
    "public class Descending extends MonthlyStocksSorter {\n",
    "\n",
    "  @Override\n",
    "  public SortedData selectionSort(List<MonthlyStocks> monthlyStocksList) {\n",
    "    int n = monthlyStocksList.size();\n",
    "\n",
    "    super.sw.start();\n",
    "    for (int i = 0; i < n - 1; i++) {\n",
    "      int maxIndex = i;\n",
    "\n",
    "      for (int j = i + 1; j < n; j++) {\n",
    "        if (compareStrings(monthlyStocksList.get(j).getHigh(), monthlyStocksList.get(maxIndex).getHigh()) > 0) {\n",
    "          maxIndex = j;\n",
    "        }\n",
    "      }\n",
    "\n",
    "      // Swap elements\n",
    "      MonthlyStocks temp = monthlyStocksList.get(maxIndex);\n",
    "      monthlyStocksList.set(maxIndex, monthlyStocksList.get(i));\n",
    "      monthlyStocksList.set(i, temp);\n",
    "    }\n",
    "    super.sw.stop();\n",
    "\n",
    "    return new SortedData(super.comparisons, super.sw.getTotalTimeMillis(), monthlyStocksList);\n",
    "  }\n",
    "\n",
    "}"
   ]
  },
  {
   "cell_type": "code",
   "execution_count": null,
   "metadata": {},
   "outputs": [],
   "source": [
    "package com.nighthawk.spring_portfolio.mvc.stocks.sorting;\n",
    "\n",
    "import java.util.List;\n",
    "\n",
    "import com.nighthawk.spring_portfolio.mvc.stocks.MonthlyStocks;\n",
    "\n",
    "import lombok.Data;\n",
    "import lombok.Getter;\n",
    "\n",
    "@Data\n",
    "public class SortedData {\n",
    "  \n",
    "  @Getter\n",
    "  private int comparisons;\n",
    "  @Getter\n",
    "  private long timeTaken;\n",
    "  @Getter\n",
    "  private List<MonthlyStocks> monthlyStocks;\n",
    "\n",
    "  public SortedData(int comparisons, long timeTaken, List<MonthlyStocks> monthlyStocks) {\n",
    "\n",
    "    this.comparisons = comparisons;\n",
    "    this.timeTaken = timeTaken;\n",
    "    this.monthlyStocks = monthlyStocks;\n",
    "\n",
    "  }\n",
    "\n",
    "}\n"
   ]
  },
  {
   "cell_type": "markdown",
   "metadata": {},
   "source": [
    "### The data output of the sorting algorithm\n",
    "![image](https://github.com/Firestorm0986/CSA-blog-site/assets/108041389/2da863e7-7fae-4390-8d25-521c142b686a)"
   ]
  },
  {
   "cell_type": "code",
   "execution_count": null,
   "metadata": {},
   "outputs": [],
   "source": []
  }
 ],
 "metadata": {
  "kernelspec": {
   "display_name": "Java",
   "language": "java",
   "name": "java"
  },
  "language_info": {
   "name": "java"
  }
 },
 "nbformat": 4,
 "nbformat_minor": 2
}
