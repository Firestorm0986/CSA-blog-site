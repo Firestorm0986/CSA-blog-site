{
 "cells": [
  {
   "cell_type": "markdown",
   "metadata": {},
   "source": [
    "---\n",
    "comments: true\n",
    "layout: post\n",
    "title: Learn Java\n",
    "description: Learning java, first step to success\n",
    "type: tangibles\n",
    "courses: { csa: {week: 1} }\n",
    "---"
   ]
  },
  {
   "cell_type": "markdown",
   "metadata": {},
   "source": [
    "## Simple Print and Syntax"
   ]
  },
  {
   "cell_type": "code",
   "execution_count": 1,
   "metadata": {},
   "outputs": [
    {
     "name": "stdout",
     "output_type": "stream",
     "text": [
      "Hello World !\n"
     ]
    }
   ],
   "source": [
    "public class Helloworld {\n",
    "    public static void main(String[] args){\n",
    "        System.out.println(\"Hello World !\");\n",
    "    }\n",
    "}\n",
    "\n",
    "Helloworld.main(null)"
   ]
  },
  {
   "cell_type": "markdown",
   "metadata": {},
   "source": [
    "### Notes\n",
    "- Have to define the <mark> class </mark> before start code. \n",
    "    - Syntax for defineing class - public class (name of class)\n",
    "- java file should be name same as the class name (not in this case as it is a jupyter notebook)\n",
    "-  `void` Used at method declaration and definition to specify that the method does not return any type\n",
    "- declaration of the method `main` done through - public class (name of method/function) \n",
    "- The String[] declares the data type and that an array of string will be given with the array's name `args` - can be anything -.\n",
    "### Challenges faced\n",
    "- forgot `;`\n",
    "- when trying to print something the command `System.out.println` needs to be used with capitol `S` for system\n",
    "- Capitol `S` for String[] args"
   ]
  },
  {
   "cell_type": "markdown",
   "metadata": {},
   "source": [
    "## Addition in Java"
   ]
  },
  {
   "cell_type": "code",
   "execution_count": 14,
   "metadata": {},
   "outputs": [
    {
     "ename": "CompilationException",
     "evalue": "",
     "output_type": "error",
     "traceback": [
      "\u001b[1m\u001b[30m|   \u001b[1m\u001b[30mSum.main(\u001b[0m\u001b[1m\u001b[30m\u001b[41m\u001b[0m\u001b[1m\u001b[30m[hello])\u001b[0m",
      "\u001b[1m\u001b[31millegal start of expression\u001b[0m",
      ""
     ]
    }
   ],
   "source": [
    "public class Sum {\n",
    "    public static void main(String[] args){\n",
    "        int x = 10;\n",
    "        int y = 20;\n",
    "        int sum = x + y;\n",
    "        System.out.println(sum);\n",
    "    }\n",
    "}\n",
    "\n",
    "Sum.main(null)"
   ]
  },
  {
   "cell_type": "markdown",
   "metadata": {},
   "source": [
    "### Notes\n",
    "- need to declare the data type of each variable that you make. for example, `int x;`\n",
    "- Do not forget `;`"
   ]
  },
  {
   "cell_type": "markdown",
   "metadata": {},
   "source": [
    "## Addition using input"
   ]
  },
  {
   "cell_type": "code",
   "execution_count": 20,
   "metadata": {},
   "outputs": [
    {
     "name": "stdout",
     "output_type": "stream",
     "text": [
      "Enter first number\n",
      "Enter the second number\n",
      "50\n"
     ]
    }
   ],
   "source": [
    "import java.util.Scanner; // import the Scanner class \n",
    "\n",
    "public class InputSum {\n",
    "    public static void main(String[] args){\n",
    "        Scanner newobj = new Scanner(System.in);\n",
    "        int x;\n",
    "        int y;\n",
    "\n",
    "        System.out.println(\"Enter first number\");\n",
    "        x = newobj.nextInt();\n",
    "        System.out.println(\"Enter the second number\");\n",
    "        y = newobj.nextInt();\n",
    "\n",
    "        int sum = x + y;\n",
    "        System.out.println(sum);\n",
    "    }\n",
    "}\n",
    "\n",
    "InputSum.main(null)"
   ]
  },
  {
   "cell_type": "markdown",
   "metadata": {},
   "source": [
    "### Notes\n",
    "- For input use class - Scanner\n",
    "    - Syntax to call/import the class -> `java.util.Scanner`\n",
    "- syntax to use the class -> `Scanner (object name) = new Scanner(system.in) # system.in asks for input`\n",
    "    - need only one of these for many inputs\n",
    "- get input using the Scanner object and method nextInt(). \n",
    "- If I did not want to use `void` can use other method fdefinations for return type like `int`\n",
    "    - But need the line `return sum` or a int to return.\n",
    "### challenges\n",
    "- The capitols in `System` and the `nextInt()` method usage"
   ]
  },
  {
   "cell_type": "code",
   "execution_count": 17,
   "metadata": {},
   "outputs": [
    {
     "name": "stdout",
     "output_type": "stream",
     "text": [
      "Enter your name\n",
      "Enter your age\n",
      "Name: Aditya, Age: 17\n"
     ]
    }
   ],
   "source": [
    "import java.util.Scanner;\n",
    "\n",
    "public class InputSum {\n",
    "    public static void main(String[] args) {\n",
    "        Scanner newobj = new Scanner(System.in);\n",
    "        String name;\n",
    "        String age;  // Corrected variable declaration\n",
    "\n",
    "        System.out.println(\"Enter your name\");  // Updated prompt message\n",
    "        name = newobj.nextLine();  // Corrected method name to nextLine()\n",
    "\n",
    "        System.out.println(\"Enter your age\");  // Updated prompt message\n",
    "        age = newobj.nextLine();  // Corrected method name to nextLine()\n",
    "\n",
    "        System.out.println(\"Name: \" + name + \", Age: \" + age);  // Added labels for clarity\n",
    "    }\n",
    "}\n",
    "\n",
    "InputSum.main(null)"
   ]
  },
  {
   "cell_type": "markdown",
   "metadata": {},
   "source": [
    "### Notes \n",
    "- You only need to declare one Scanner object. You can use this object to read both the name and the age.\n",
    "- Method names are case sensitive\n",
    "- `Naming Conventions:` Follow naming conventions for better readability and consistency. Class names start with an uppercase letter, variable and method names start with a lowercase letter, and if the name consists of multiple words, use CamelCase."
   ]
  },
  {
   "cell_type": "markdown",
   "metadata": {},
   "source": [
    "## Java Program to calculate Area"
   ]
  },
  {
   "cell_type": "code",
   "execution_count": 7,
   "metadata": {},
   "outputs": [],
   "source": [
    "import java.util.Scanner;\n",
    "public class Area{\n",
    "    public static int main(String[] args){\n",
    "        Scanner myObj = new Scanner(System.in);\n",
    "        int base;\n",
    "        int height;\n",
    "\n",
    "        System.out.println(\"The width of the rectangle\");\n",
    "        base = myObj.nextInt();\n",
    "        System.out.println(\"The height of the rectangle\");\n",
    "        height = myObj.nextInt();\n",
    "\n",
    "        int area = height * base;\n",
    "        System.out.println(\"The area is: \" + area);\n",
    "        return area;\n",
    "    }\n",
    "}\n",
    "\n",
    "Area.main(null)"
   ]
  },
  {
   "cell_type": "markdown",
   "metadata": {},
   "source": [
    "### Notes\n",
    "- Just using int needs a return statement"
   ]
  },
  {
   "cell_type": "markdown",
   "metadata": {},
   "source": [
    "## Notes\n",
    "### Primitive Data Types:\n",
    "Java has several primitive data types to represent basic values. Here are some commonly used ones:\n",
    "\n",
    "- int: Represents integers, e.g., 10, -5.\n",
    "- double: Represents floating-point numbers (decimal numbers), e.g., 3.14, -0.5.\n",
    "- char: Represents a single character, e.g., 'A', '$'.\n",
    "- boolean: Represents a true or false value.\n",
    "\n",
    "### Converting Data Types\n",
    "```\n",
    "int num1 = 5;\n",
    "double num2 = num1;  // Implicit type conversion\n",
    "\n",
    "double num3 = 3.14;\n",
    "int num4 = (int) num3;  // Explicit type casting\n",
    "\n",
    "```"
   ]
  }
 ],
 "metadata": {
  "kernelspec": {
   "display_name": "Java",
   "language": "java",
   "name": "java"
  },
  "language_info": {
   "codemirror_mode": "java",
   "file_extension": ".jshell",
   "mimetype": "text/x-java-source",
   "name": "java",
   "pygments_lexer": "java",
   "version": "11.0.20+8-post-Ubuntu-1ubuntu122.04"
  },
  "orig_nbformat": 4
 },
 "nbformat": 4,
 "nbformat_minor": 2
}
